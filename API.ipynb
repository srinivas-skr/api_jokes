{
  "cells": [
    {
      "cell_type": "code",
      "execution_count": 12,
      "metadata": {
        "colab": {
          "base_uri": "https://localhost:8080/"
        },
        "id": "LRWDPeJrrGhX",
        "outputId": "f52223c3-b68b-470c-ffa0-a26b88a82413"
      },
      "outputs": [
        {
          "name": "stdout",
          "output_type": "stream",
          "text": [
            "Requirement already satisfied: requests in c:\\users\\vikas\\desktop\\01_python\\.conda\\lib\\site-packages (2.31.0)\n",
            "Requirement already satisfied: charset-normalizer<4,>=2 in c:\\users\\vikas\\desktop\\01_python\\.conda\\lib\\site-packages (from requests) (3.3.0)\n",
            "Requirement already satisfied: idna<4,>=2.5 in c:\\users\\vikas\\desktop\\01_python\\.conda\\lib\\site-packages (from requests) (3.4)\n",
            "Requirement already satisfied: urllib3<3,>=1.21.1 in c:\\users\\vikas\\desktop\\01_python\\.conda\\lib\\site-packages (from requests) (2.0.6)\n",
            "Requirement already satisfied: certifi>=2017.4.17 in c:\\users\\vikas\\desktop\\01_python\\.conda\\lib\\site-packages (from requests) (2023.7.22)\n",
            "Requirement already satisfied: pyfiglet in c:\\users\\vikas\\desktop\\01_python\\.conda\\lib\\site-packages (1.0.2)\n",
            "Requirement already satisfied: termcolor in c:\\users\\vikas\\desktop\\01_python\\.conda\\lib\\site-packages (2.3.0)\n",
            "  __ _           _             _       _        \n",
            " / _(_)_ __   __| |   __ _    (_) ___ | | _____ \n",
            "| |_| | '_ \\ / _` |  / _` |   | |/ _ \\| |/ / _ \\\n",
            "|  _| | | | | (_| | | (_| |   | | (_) |   <  __/\n",
            "|_| |_|_| |_|\\__,_|  \\__,_|  _/ |\\___/|_|\\_\\___|\n",
            "                            |__/                \n",
            "\n",
            "i've got 13 about dog here is one of them My dog used to chase people on a bike a lot. It got so bad I had to take his bike away.\n"
          ]
        }
      ],
      "source": [
        "!pip install requests\n",
        "!pip install pyfiglet\n",
        "!pip install termcolor\n",
        "\n",
        "import requests\n",
        "import pyfiglet\n",
        "#import termcolor\n",
        "from random import choice\n",
        "header = pyfiglet.figlet_format (\"find a joke\")\n",
        "print (header)\n",
        "\n",
        "term = input(\"Let me tell you a joke : Give me  a Topic \") #prompt term is  variable\n",
        "\n",
        "response_json = requests.get(\"https://icanhazdadjoke.com/search\", headers={\"Accept\": \"application/json\"}, params={\"term\":term}).json()\n",
        "\n",
        "#print(response_json)\n",
        "results = response_json [\"results\"]\n",
        "total_jokes = response_json[\"total_jokes\"]\n",
        "if (total_jokes > 1):\n",
        " print(f\"i've got {total_jokes} about {term} here is one of them\",choice(results)[\"joke\"])\n",
        "elif(total_jokes == 1):\n",
        " print(f\"i've got one job about {term}. here it is\", results[0][\"joke\"])\n",
        "else:\n",
        " print(f\"sorry i dont have joke about {term}\")\n",
        "\n"
      ]
    }
  ],
  "metadata": {
    "colab": {
      "provenance": []
    },
    "kernelspec": {
      "display_name": "Python 3",
      "name": "python3"
    },
    "language_info": {
      "codemirror_mode": {
        "name": "ipython",
        "version": 3
      },
      "file_extension": ".py",
      "mimetype": "text/x-python",
      "name": "python",
      "nbconvert_exporter": "python",
      "pygments_lexer": "ipython3",
      "version": "3.11.5"
    }
  },
  "nbformat": 4,
  "nbformat_minor": 0
}
