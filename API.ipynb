import requests
import pyfiglet
#import termcolor
from random import choice
header = pyfiglet.figlet_format ("find a joke")
print (header)

term = input("Let me tell you a joke : Give me  a Topic ") #prompt term is  variable

response_json = requests.get("https://icanhazdadjoke.com/search", headers={"Accept": "application/json"}, params={"term":term}).json()

#print(response_json)
results = response_json ["results"]
total_jokes = response_json["total_jokes"]
if (total_jokes > 1):
 print(f"i've got (tot_jokes) about {term} here is one of them",choice(results)["joke"])
elif(total_jokes == 1):
 print(f"i've got one job about {term}. here it is", results[0]["joke"])
else:
 print(f"sorry i dont have joke about {term}")
