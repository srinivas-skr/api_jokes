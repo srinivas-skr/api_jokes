{
  "cells": [
    {
      "cell_type": "code",
      "execution_count": null,
      "metadata": {
        "colab": {
          "base_uri": "https://localhost:8080/"
        },
        "id": "i_pTdZcqPs17",
        "outputId": "a7370083-30bb-413f-fd80-b807904dd96e"
      },
      "outputs": [],
      "source": [
        "!pip install requests"
      ]
    },
    {
      "cell_type": "code",
      "execution_count": null,
      "metadata": {
        "colab": {
          "base_uri": "https://localhost:8080/"
        },
        "id": "1klEWw4vUl1k",
        "outputId": "6081b676-2449-4a8b-df93-6f12e6683e23"
      },
      "outputs": [],
      "source": [
        "import requests\n",
        "res = requests.get(\"https://news.ycombinator.com/\")\n",
        "print(res)"
      ]
    },
    {
      "cell_type": "code",
      "execution_count": null,
      "metadata": {
        "colab": {
          "base_uri": "https://localhost:8080/"
        },
        "id": "6mL5PrtvXfeV",
        "outputId": "0a787e1f-9f40-4226-8dda-2abb5cf4e977"
      },
      "outputs": [],
      "source": [
        "print(res.ok)"
      ]
    },
    {
      "cell_type": "code",
      "execution_count": null,
      "metadata": {
        "colab": {
          "base_uri": "https://localhost:8080/"
        },
        "id": "hKvL06HAX4m9",
        "outputId": "8a1146e0-1c38-4e98-a7d7-84dc9caf62e2"
      },
      "outputs": [],
      "source": [
        "print(res.text)"
      ]
    },
    {
      "cell_type": "code",
      "execution_count": null,
      "metadata": {
        "colab": {
          "base_uri": "https://localhost:8080/"
        },
        "id": "3uZCjVvAYWVA",
        "outputId": "869ee0bc-2456-4ed5-feb6-dc870b91c55c"
      },
      "outputs": [],
      "source": [
        "import requests\n",
        "\n",
        "url = \"https://www.google.com/\"\n",
        "response = requests.get(url)\n",
        "print (f\"your reuwst to {url} came with reponse {response.status_code}\")\n"
      ]
    },
    {
      "cell_type": "code",
      "execution_count": null,
      "metadata": {
        "colab": {
          "base_uri": "https://localhost:8080/"
        },
        "id": "W3W7GorYakOo",
        "outputId": "41b8cad8-e599-4e00-abf3-0d17972b99e8"
      },
      "outputs": [],
      "source": [
        "import requests\n",
        "url = \"https://icanhazdadjoke.com/serach\"\n",
        "res = requests.get(url)\n",
        "print(res.text)\n"
      ]
    },
    {
      "cell_type": "code",
      "execution_count": null,
      "metadata": {
        "colab": {
          "base_uri": "https://localhost:8080/"
        },
        "id": "Sp3Fh3Z6dbkV",
        "outputId": "d57b0435-5ce7-4d00-c1e5-56b0ccf572ed"
      },
      "outputs": [],
      "source": [
        "import requests\n",
        "url = \"https://icanhazdadjoke.com/search\"\n",
        "res = requests.get(url,headers={\"Accept\":\"text/plain\"})\n",
        "print(res.text)"
      ]
    },
    {
      "cell_type": "code",
      "execution_count": null,
      "metadata": {
        "colab": {
          "base_uri": "https://localhost:8080/"
        },
        "id": "n6E8QJredfRa",
        "outputId": "3f2637e0-4172-420e-841f-9eb85e63355d"
      },
      "outputs": [],
      "source": [
        "import requests\n",
        "url = \"https://icanhazdadjoke.com/search\"\n",
        "\n",
        "res = requests.get(url,headers={\"Accept\":\"application/json\"})\n",
        "\n",
        "data = res.json() #attaching json method  to get response from server in dictionary\n",
        "\n",
        "#print(type(res.text))  previous code\n",
        "\n",
        "print(data)\n",
        "\n",
        "print(type(data))"
      ]
    },
    {
      "cell_type": "markdown",
      "metadata": {
        "id": "M0Y8PdW8isoJ"
      },
      "source": [
        "{'current_page': 1, 'limit': 20, 'next_page': 2, 'previous_page': 1, 'results': [{'id': '0189hNRf2g', 'joke': \"I'm tired of following my dreams. I'm just going to ask them where they are going and meet up with them later.\"}, {'id': '08EQZ8EQukb', 'joke': \"Did you hear about the guy whose whole left side was cut off? He's all right now.\"}, {'id': '08xHQCdx5Ed', 'joke': 'Why didn’t the skeleton cross the road? Because he had no guts.'}, {'id': '0DQKB51oGlb', 'joke': \"What did one nut say as he chased another nut?  I'm a cashew!\"}, {'id': '0DdFQZgyXnb', 'joke': 'Where do fish keep their money? In the riverbank'}, {'id': '0DdaxAX0orc', 'joke': 'I accidentally took my cats meds last night. Don’t ask meow.'}, {'id': '0DtrrOZDlyd', 'joke': \"Chances are if you' ve seen one shopping center, you've seen a mall.\"}, {'id': '0L6MexPukjb', 'joke': 'Dermatologists are always in a hurry. They spend all day making rash decisions. '}, {'id': '0LuXvkq4Muc', 'joke': \"I knew I shouldn't steal a mixer from work, but it was a whisk I was willing to take.\"}, {'id': '0gFdFBsWDd', 'joke': 'I won an argument with a weather forecaster once. His logic was cloudy...'}, {'id': '0ga2EdN7prc', 'joke': 'How come the stadium got hot after the game? Because all of the fans left.'}, {'id': '0ga2wsPZgib', 'joke': '\"Why do seagulls fly over the ocean?\" \"Because if they flew over the bay, we\\'d call them bagels.\"'}, {'id': '0oO71TSv4Ed', 'joke': 'Why was it called the dark ages? Because of all the knights. '}, {'id': '0oz51ozk3ob', 'joke': 'A steak pun is a rare medium well done.'}, {'id': '0ozAXv4Mmjb', 'joke': 'Why did the tomato blush? Because it saw the salad dressing.'}, {'id': '0wcFBQfiGBd', 'joke': 'Did you hear the joke about the wandering nun? She was a roman catholic.'}, {'id': '189xHQ7pOuc', 'joke': 'What creature is smarter than a talking parrot? A spelling bee.'}, {'id': '18Elj3EIYvc', 'joke': \"I'll tell you what often gets over looked... garden fences.\"}, {'id': '18h3wcU8xAd', 'joke': 'Why did the kid cross the playground? To get to the other slide.'}, {'id': '1DIRSfx51Dd', 'joke': \"Why do birds fly south for the winter? Because it's too far to walk.\"}], 'search_term': '', 'status': 200, 'total_jokes': 744, 'total_pages': 38}\n",
        "<class 'dict'>\n",
        "\n",
        "\n",
        "---\n",
        "\n",
        "\n",
        "\n",
        "---\n",
        "\n"
      ]
    },
    {
      "cell_type": "code",
      "execution_count": null,
      "metadata": {
        "colab": {
          "base_uri": "https://localhost:8080/"
        },
        "id": "1DU_qRzCjW9W",
        "outputId": "49c5cba5-cf2f-4696-e903-fdddfb98ef0e"
      },
      "outputs": [],
      "source": [
        "d= data[\"results\"]\n",
        "print(d)"
      ]
    },
    {
      "cell_type": "markdown",
      "metadata": {
        "id": "jJa23kkRkDZm"
      },
      "source": [
        "[{'id': '0189hNRf2g', 'joke': \"I'm tired of following my dreams. I'm just going to ask them where they are going and meet up with them later.\"}, {'id': '08EQZ8EQukb', 'joke': \"Did you hear about the guy whose whole left side was cut off? He's all right now.\"}, {'id': '08xHQCdx5Ed', 'joke': 'Why didn’t the skeleton cross the road? Because he had no guts.'}]"
      ]
    },
    {
      "cell_type": "code",
      "execution_count": null,
      "metadata": {
        "colab": {
          "base_uri": "https://localhost:8080/"
        },
        "id": "BbhYO8tWkXgu",
        "outputId": "818ee506-52a8-4276-f0de-385f1feea53f"
      },
      "outputs": [],
      "source": [
        "joke = []\n",
        "for i in  d:\n",
        "  joke.append(i[\"joke\"])\n",
        "  print(joke)"
      ]
    },
    {
      "cell_type": "code",
      "execution_count": null,
      "metadata": {
        "colab": {
          "base_uri": "https://localhost:8080/"
        },
        "id": "qvDcV2-VlzTK",
        "outputId": "5d870655-8cc4-43f2-f18c-6ce9ee2f1458"
      },
      "outputs": [],
      "source": [
        "!pip install pyfiglet\n",
        "!pip install termcolor\n"
      ]
    },
    {
      "cell_type": "code",
      "execution_count": null,
      "metadata": {
        "colab": {
          "base_uri": "https://localhost:8080/"
        },
        "id": "1_oFwFi2nAQD",
        "outputId": "616a6e4c-1454-434e-f9d7-010c8fd36abc"
      },
      "outputs": [],
      "source": [
        "import requests\n",
        "\n",
        "res = requests.get(\"https://icanhazdadjoke.com/search\", headers={\"Accept\": \"application/json\"}, params={\"term\": \"cat\"})\n",
        "\n",
        "data = res.json()\n",
        "print(data)\n"
      ]
    },
    {
      "cell_type": "code",
      "execution_count": 5,
      "metadata": {
        "colab": {
          "base_uri": "https://localhost:8080/"
        },
        "id": "LRWDPeJrrGhX",
        "outputId": "f52223c3-b68b-470c-ffa0-a26b88a82413"
      },
      "outputs": [
        {
          "name": "stdout",
          "output_type": "stream",
          "text": [
            "Requirement already satisfied: requests in c:\\users\\vikas\\desktop\\01_python\\.conda\\lib\\site-packages (2.31.0)\n",
            "Requirement already satisfied: charset-normalizer<4,>=2 in c:\\users\\vikas\\desktop\\01_python\\.conda\\lib\\site-packages (from requests) (3.3.0)\n",
            "Requirement already satisfied: idna<4,>=2.5 in c:\\users\\vikas\\desktop\\01_python\\.conda\\lib\\site-packages (from requests) (3.4)\n",
            "Requirement already satisfied: urllib3<3,>=1.21.1 in c:\\users\\vikas\\desktop\\01_python\\.conda\\lib\\site-packages (from requests) (2.0.6)\n",
            "Requirement already satisfied: certifi>=2017.4.17 in c:\\users\\vikas\\desktop\\01_python\\.conda\\lib\\site-packages (from requests) (2023.7.22)\n",
            "Requirement already satisfied: pyfiglet in c:\\users\\vikas\\desktop\\01_python\\.conda\\lib\\site-packages (1.0.2)\n",
            "Requirement already satisfied: termcolor in c:\\users\\vikas\\desktop\\01_python\\.conda\\lib\\site-packages (2.3.0)\n",
            "  __ _           _             _       _        \n",
            " / _(_)_ __   __| |   __ _    (_) ___ | | _____ \n",
            "| |_| | '_ \\ / _` |  / _` |   | |/ _ \\| |/ / _ \\\n",
            "|  _| | | | | (_| | | (_| |   | | (_) |   <  __/\n",
            "|_| |_|_| |_|\\__,_|  \\__,_|  _/ |\\___/|_|\\_\\___|\n",
            "                            |__/                \n",
            "\n",
            "i've got (tot_jokes) about dog here is one of them My dog used to chase people on a bike a lot. It got so bad I had to take his bike away.\n"
          ]
        }
      ],
      "source": [
        "!pip install requests\n",
        "!pip install pyfiglet\n",
        "!pip install termcolor\n",
        "\n",
        "import requests\n",
        "import pyfiglet\n",
        "#import termcolor\n",
        "from random import choice\n",
        "header = pyfiglet.figlet_format (\"find a joke\")\n",
        "print (header)\n",
        "\n",
        "term = input(\"Let me tell you a joke : Give me  a Topic \") #prompt term is  variable\n",
        "\n",
        "response_json = requests.get(\"https://icanhazdadjoke.com/search\", headers={\"Accept\": \"application/json\"}, params={\"term\":term}).json()\n",
        "\n",
        "#print(response_json)\n",
        "results = response_json [\"results\"]\n",
        "total_jokes = response_json[\"total_jokes\"]\n",
        "if (total_jokes > 1):\n",
        " print(f\"i've got (tot_jokes) about {term} here is one of them\",choice(results)[\"joke\"])\n",
        "elif(total_jokes == 1):\n",
        " print(f\"i've got one job about {term}. here it is\", results[0][\"joke\"])\n",
        "else:\n",
        " print(f\"sorry i dont have joke about {term}\")\n",
        "\n"
      ]
    }
  ],
  "metadata": {
    "colab": {
      "provenance": []
    },
    "kernelspec": {
      "display_name": "Python 3",
      "name": "python3"
    },
    "language_info": {
      "codemirror_mode": {
        "name": "ipython",
        "version": 3
      },
      "file_extension": ".py",
      "mimetype": "text/x-python",
      "name": "python",
      "nbconvert_exporter": "python",
      "pygments_lexer": "ipython3",
      "version": "3.11.5"
    }
  },
  "nbformat": 4,
  "nbformat_minor": 0
}
