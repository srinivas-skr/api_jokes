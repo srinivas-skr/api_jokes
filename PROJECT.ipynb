{
  "nbformat": 4,
  "nbformat_minor": 0,
  "metadata": {
    "colab": {
      "provenance": []
    },
    "kernelspec": {
      "name": "python3",
      "display_name": "Python 3"
    },
    "language_info": {
      "name": "python"
    }
  },
  "cells": [
    {
      "cell_type": "code",
      "execution_count": null,
      "metadata": {
        "colab": {
          "base_uri": "https://localhost:8080/"
        },
        "id": "i_pTdZcqPs17",
        "outputId": "a7370083-30bb-413f-fd80-b807904dd96e"
      },
      "outputs": [
        {
          "output_type": "stream",
          "name": "stdout",
          "text": [
            "Requirement already satisfied: requests in /usr/local/lib/python3.10/dist-packages (2.31.0)\n",
            "Requirement already satisfied: charset-normalizer<4,>=2 in /usr/local/lib/python3.10/dist-packages (from requests) (3.2.0)\n",
            "Requirement already satisfied: idna<4,>=2.5 in /usr/local/lib/python3.10/dist-packages (from requests) (3.4)\n",
            "Requirement already satisfied: urllib3<3,>=1.21.1 in /usr/local/lib/python3.10/dist-packages (from requests) (2.0.4)\n",
            "Requirement already satisfied: certifi>=2017.4.17 in /usr/local/lib/python3.10/dist-packages (from requests) (2023.7.22)\n"
          ]
        }
      ],
      "source": [
        "!pip install requests"
      ]
    },
    {
      "cell_type": "code",
      "source": [
        "import requests\n",
        "res = requests.get(\"https://news.ycombinator.com/\")\n",
        "print(res)"
      ],
      "metadata": {
        "colab": {
          "base_uri": "https://localhost:8080/"
        },
        "id": "1klEWw4vUl1k",
        "outputId": "6081b676-2449-4a8b-df93-6f12e6683e23"
      },
      "execution_count": null,
      "outputs": [
        {
          "output_type": "stream",
          "name": "stdout",
          "text": [
            "<Response [200]>\n"
          ]
        }
      ]
    },
    {
      "cell_type": "code",
      "source": [
        "print(res.ok)"
      ],
      "metadata": {
        "colab": {
          "base_uri": "https://localhost:8080/"
        },
        "id": "6mL5PrtvXfeV",
        "outputId": "0a787e1f-9f40-4226-8dda-2abb5cf4e977"
      },
      "execution_count": null,
      "outputs": [
        {
          "output_type": "stream",
          "name": "stdout",
          "text": [
            "True\n"
          ]
        }
      ]
    },
    {
      "cell_type": "code",
      "source": [
        "print(res.text)"
      ],
      "metadata": {
        "colab": {
          "base_uri": "https://localhost:8080/"
        },
        "id": "hKvL06HAX4m9",
        "outputId": "8a1146e0-1c38-4e98-a7d7-84dc9caf62e2"
      },
      "execution_count": null,
      "outputs": [
        {
          "output_type": "stream",
          "name": "stdout",
          "text": [
            "<html lang=\"en\" op=\"news\"><head><meta name=\"referrer\" content=\"origin\"><meta name=\"viewport\" content=\"width=device-width, initial-scale=1.0\"><link rel=\"stylesheet\" type=\"text/css\" href=\"news.css?RjZPMtYgEOQlBCERQQYJ\">\n",
            "        <link rel=\"shortcut icon\" href=\"favicon.ico\">\n",
            "          <link rel=\"alternate\" type=\"application/rss+xml\" title=\"RSS\" href=\"rss\">\n",
            "        <title>Hacker News</title></head><body><center><table id=\"hnmain\" border=\"0\" cellpadding=\"0\" cellspacing=\"0\" width=\"85%\" bgcolor=\"#f6f6ef\">\n",
            "        <tr><td bgcolor=\"#ff6600\"><table border=\"0\" cellpadding=\"0\" cellspacing=\"0\" width=\"100%\" style=\"padding:2px\"><tr><td style=\"width:18px;padding-right:4px\"><a href=\"https://news.ycombinator.com\"><img src=\"y18.svg\" width=\"18\" height=\"18\" style=\"border:1px white solid; display:block\"></a></td>\n",
            "                  <td style=\"line-height:12pt; height:10px;\"><span class=\"pagetop\"><b class=\"hnname\"><a href=\"news\">Hacker News</a></b>\n",
            "                            <a href=\"newest\">new</a> | <a href=\"front\">past</a> | <a href=\"newcomments\">comments</a> | <a href=\"ask\">ask</a> | <a href=\"show\">show</a> | <a href=\"jobs\">jobs</a> | <a href=\"submit\">submit</a>            </span></td><td style=\"text-align:right;padding-right:4px;\"><span class=\"pagetop\">\n",
            "                              <a href=\"login?goto=news\">login</a>\n",
            "                          </span></td>\n",
            "              </tr></table></td></tr>\n",
            "<tr id=\"pagespace\" title=\"\" style=\"height:10px\"></tr><tr><td><table border=\"0\" cellpadding=\"0\" cellspacing=\"0\">\n",
            "            <tr class='athing' id='37520536'>\n",
            "      <td align=\"right\" valign=\"top\" class=\"title\"><span class=\"rank\">1.</span></td>      <td valign=\"top\" class=\"votelinks\"><center><a id='up_37520536'href='vote?id=37520536&amp;how=up&amp;goto=news'><div class='votearrow' title='upvote'></div></a></center></td><td class=\"title\"><span class=\"titleline\"><a href=\"https://www.twipla.com/en/blog/norway-fining-meta-98500-per-day-for-user-privacy-breach\" rel=\"noreferrer\">Norway Fining Meta $98,500 per Day for User Privacy Breach</a><span class=\"sitebit comhead\"> (<a href=\"from?site=twipla.com\"><span class=\"sitestr\">twipla.com</span></a>)</span></span></td></tr><tr><td colspan=\"2\"></td><td class=\"subtext\"><span class=\"subline\">\n",
            "          <span class=\"score\" id=\"score_37520536\">33 points</span> by <a href=\"user?id=VisitorAnalyt\" class=\"hnuser\">VisitorAnalyt</a> <span class=\"age\" title=\"2023-09-15T09:38:03\"><a href=\"item?id=37520536\">43 minutes ago</a></span> <span id=\"unv_37520536\"></span> | <a href=\"hide?id=37520536&amp;goto=news\">hide</a> | <a href=\"item?id=37520536\">14&nbsp;comments</a>        </span>\n",
            "              </td></tr>\n",
            "      <tr class=\"spacer\" style=\"height:5px\"></tr>\n",
            "                <tr class='athing' id='37519418'>\n",
            "      <td align=\"right\" valign=\"top\" class=\"title\"><span class=\"rank\">2.</span></td>      <td valign=\"top\" class=\"votelinks\"><center><a id='up_37519418'href='vote?id=37519418&amp;how=up&amp;goto=news'><div class='votearrow' title='upvote'></div></a></center></td><td class=\"title\"><span class=\"titleline\"><a href=\"https://billwillingham.substack.com/p/willingham-sends-fables-into-the\" rel=\"noreferrer\">Willingham sends Fables into the public domain</a><span class=\"sitebit comhead\"> (<a href=\"from?site=billwillingham.substack.com\"><span class=\"sitestr\">billwillingham.substack.com</span></a>)</span></span></td></tr><tr><td colspan=\"2\"></td><td class=\"subtext\"><span class=\"subline\">\n",
            "          <span class=\"score\" id=\"score_37519418\">151 points</span> by <a href=\"user?id=Tomte\" class=\"hnuser\">Tomte</a> <span class=\"age\" title=\"2023-09-15T06:51:54\"><a href=\"item?id=37519418\">3 hours ago</a></span> <span id=\"unv_37519418\"></span> | <a href=\"hide?id=37519418&amp;goto=news\">hide</a> | <a href=\"item?id=37519418\">34&nbsp;comments</a>        </span>\n",
            "              </td></tr>\n",
            "      <tr class=\"spacer\" style=\"height:5px\"></tr>\n",
            "                <tr class='athing' id='37520079'>\n",
            "      <td align=\"right\" valign=\"top\" class=\"title\"><span class=\"rank\">3.</span></td>      <td valign=\"top\" class=\"votelinks\"><center><a id='up_37520079'href='vote?id=37520079&amp;how=up&amp;goto=news'><div class='votearrow' title='upvote'></div></a></center></td><td class=\"title\"><span class=\"titleline\"><a href=\"https://ramatak.com/2023/09/15/unitys-new-pricing-a-wake-up-call-on-the-importance-of-open-source-in-gaming/\" rel=\"noreferrer\">Unity’s New Pricing: A Wake-Up Call on the Importance of Open Source in Gaming</a><span class=\"sitebit comhead\"> (<a href=\"from?site=ramatak.com\"><span class=\"sitestr\">ramatak.com</span></a>)</span></span></td></tr><tr><td colspan=\"2\"></td><td class=\"subtext\"><span class=\"subline\">\n",
            "          <span class=\"score\" id=\"score_37520079\">41 points</span> by <a href=\"user?id=TMM2K\" class=\"hnuser\">TMM2K</a> <span class=\"age\" title=\"2023-09-15T08:24:59\"><a href=\"item?id=37520079\">1 hour ago</a></span> <span id=\"unv_37520079\"></span> | <a href=\"hide?id=37520079&amp;goto=news\">hide</a> | <a href=\"item?id=37520079\">29&nbsp;comments</a>        </span>\n",
            "              </td></tr>\n",
            "      <tr class=\"spacer\" style=\"height:5px\"></tr>\n",
            "                <tr class='athing' id='37520039'>\n",
            "      <td align=\"right\" valign=\"top\" class=\"title\"><span class=\"rank\">4.</span></td>      <td valign=\"top\" class=\"votelinks\"><center><a id='up_37520039'href='vote?id=37520039&amp;how=up&amp;goto=news'><div class='votearrow' title='upvote'></div></a></center></td><td class=\"title\"><span class=\"titleline\"><a href=\"https://www.findmycat.io/\" rel=\"noreferrer\">Find my cat: open-source Cat Tracker</a><span class=\"sitebit comhead\"> (<a href=\"from?site=findmycat.io\"><span class=\"sitestr\">findmycat.io</span></a>)</span></span></td></tr><tr><td colspan=\"2\"></td><td class=\"subtext\"><span class=\"subline\">\n",
            "          <span class=\"score\" id=\"score_37520039\">62 points</span> by <a href=\"user?id=popey\" class=\"hnuser\">popey</a> <span class=\"age\" title=\"2023-09-15T08:18:19\"><a href=\"item?id=37520039\">2 hours ago</a></span> <span id=\"unv_37520039\"></span> | <a href=\"hide?id=37520039&amp;goto=news\">hide</a> | <a href=\"item?id=37520039\">42&nbsp;comments</a>        </span>\n",
            "              </td></tr>\n",
            "      <tr class=\"spacer\" style=\"height:5px\"></tr>\n",
            "                <tr class='athing' id='37517567'>\n",
            "      <td align=\"right\" valign=\"top\" class=\"title\"><span class=\"rank\">5.</span></td>      <td valign=\"top\" class=\"votelinks\"><center><a id='up_37517567'href='vote?id=37517567&amp;how=up&amp;goto=news'><div class='votearrow' title='upvote'></div></a></center></td><td class=\"title\"><span class=\"titleline\"><a href=\"https://b612-font.com/\" rel=\"noreferrer\">B612 Font Family</a><span class=\"sitebit comhead\"> (<a href=\"from?site=b612-font.com\"><span class=\"sitestr\">b612-font.com</span></a>)</span></span></td></tr><tr><td colspan=\"2\"></td><td class=\"subtext\"><span class=\"subline\">\n",
            "          <span class=\"score\" id=\"score_37517567\">200 points</span> by <a href=\"user?id=OliverGilan\" class=\"hnuser\">OliverGilan</a> <span class=\"age\" title=\"2023-09-15T02:33:03\"><a href=\"item?id=37517567\">7 hours ago</a></span> <span id=\"unv_37517567\"></span> | <a href=\"hide?id=37517567&amp;goto=news\">hide</a> | <a href=\"item?id=37517567\">42&nbsp;comments</a>        </span>\n",
            "              </td></tr>\n",
            "      <tr class=\"spacer\" style=\"height:5px\"></tr>\n",
            "                <tr class='athing' id='37519928'>\n",
            "      <td align=\"right\" valign=\"top\" class=\"title\"><span class=\"rank\">6.</span></td>      <td valign=\"top\" class=\"votelinks\"><center><a id='up_37519928'href='vote?id=37519928&amp;how=up&amp;goto=news'><div class='votearrow' title='upvote'></div></a></center></td><td class=\"title\"><span class=\"titleline\"><a href=\"https://github.com/mackieks/MaplePad\">MaplePad – RP2040 Dreamcast controller, VMU, and Purupuru (rumble pack) emulator</a><span class=\"sitebit comhead\"> (<a href=\"from?site=github.com/mackieks\"><span class=\"sitestr\">github.com/mackieks</span></a>)</span></span></td></tr><tr><td colspan=\"2\"></td><td class=\"subtext\"><span class=\"subline\">\n",
            "          <span class=\"score\" id=\"score_37519928\">15 points</span> by <a href=\"user?id=cedel2k1\" class=\"hnuser\">cedel2k1</a> <span class=\"age\" title=\"2023-09-15T08:00:15\"><a href=\"item?id=37519928\">2 hours ago</a></span> <span id=\"unv_37519928\"></span> | <a href=\"hide?id=37519928&amp;goto=news\">hide</a> | <a href=\"item?id=37519928\">2&nbsp;comments</a>        </span>\n",
            "              </td></tr>\n",
            "      <tr class=\"spacer\" style=\"height:5px\"></tr>\n",
            "                <tr class='athing' id='37520065'>\n",
            "      <td align=\"right\" valign=\"top\" class=\"title\"><span class=\"rank\">7.</span></td>      <td valign=\"top\" class=\"votelinks\"><center><a id='up_37520065'href='vote?id=37520065&amp;how=up&amp;goto=news'><div class='votearrow' title='upvote'></div></a></center></td><td class=\"title\"><span class=\"titleline\"><a href=\"https://www.metzdowd.com/pipermail/cryptography/2016-March/028824.html\" rel=\"noreferrer\">On the Impending Crypto Monoculture (2016)</a><span class=\"sitebit comhead\"> (<a href=\"from?site=metzdowd.com\"><span class=\"sitestr\">metzdowd.com</span></a>)</span></span></td></tr><tr><td colspan=\"2\"></td><td class=\"subtext\"><span class=\"subline\">\n",
            "          <span class=\"score\" id=\"score_37520065\">15 points</span> by <a href=\"user?id=sillysaurusx\" class=\"hnuser\">sillysaurusx</a> <span class=\"age\" title=\"2023-09-15T08:23:23\"><a href=\"item?id=37520065\">1 hour ago</a></span> <span id=\"unv_37520065\"></span> | <a href=\"hide?id=37520065&amp;goto=news\">hide</a> | <a href=\"item?id=37520065\">1&nbsp;comment</a>        </span>\n",
            "              </td></tr>\n",
            "      <tr class=\"spacer\" style=\"height:5px\"></tr>\n",
            "                <tr class='athing' id='37507419'>\n",
            "      <td align=\"right\" valign=\"top\" class=\"title\"><span class=\"rank\">8.</span></td>      <td valign=\"top\" class=\"votelinks\"><center><a id='up_37507419'href='vote?id=37507419&amp;how=up&amp;goto=news'><div class='votearrow' title='upvote'></div></a></center></td><td class=\"title\"><span class=\"titleline\"><a href=\"https://nuejs.org\" rel=\"noreferrer\">Show HN: Nue – A React&#x2F;Vue&#x2F;Vite&#x2F;Astro Alternative</a><span class=\"sitebit comhead\"> (<a href=\"from?site=nuejs.org\"><span class=\"sitestr\">nuejs.org</span></a>)</span></span></td></tr><tr><td colspan=\"2\"></td><td class=\"subtext\"><span class=\"subline\">\n",
            "          <span class=\"score\" id=\"score_37507419\">210 points</span> by <a href=\"user?id=tipiirai\" class=\"hnuser\">tipiirai</a> <span class=\"age\" title=\"2023-09-14T11:11:17\"><a href=\"item?id=37507419\">9 hours ago</a></span> <span id=\"unv_37507419\"></span> | <a href=\"hide?id=37507419&amp;goto=news\">hide</a> | <a href=\"item?id=37507419\">156&nbsp;comments</a>        </span>\n",
            "              </td></tr>\n",
            "      <tr class=\"spacer\" style=\"height:5px\"></tr>\n",
            "                <tr class='athing' id='37517118'>\n",
            "      <td align=\"right\" valign=\"top\" class=\"title\"><span class=\"rank\">9.</span></td>      <td valign=\"top\" class=\"votelinks\"><center><a id='up_37517118'href='vote?id=37517118&amp;how=up&amp;goto=news'><div class='votearrow' title='upvote'></div></a></center></td><td class=\"title\"><span class=\"titleline\"><a href=\"https://terrytao.wordpress.com/2012/12/29/a-mathematical-formalisation-of-dimensional-analysis/\" rel=\"noreferrer\">A mathematical formalization of dimensional analysis</a><span class=\"sitebit comhead\"> (<a href=\"from?site=terrytao.wordpress.com\"><span class=\"sitestr\">terrytao.wordpress.com</span></a>)</span></span></td></tr><tr><td colspan=\"2\"></td><td class=\"subtext\"><span class=\"subline\">\n",
            "          <span class=\"score\" id=\"score_37517118\">100 points</span> by <a href=\"user?id=dargscisyhp\" class=\"hnuser\">dargscisyhp</a> <span class=\"age\" title=\"2023-09-15T01:34:36\"><a href=\"item?id=37517118\">8 hours ago</a></span> <span id=\"unv_37517118\"></span> | <a href=\"hide?id=37517118&amp;goto=news\">hide</a> | <a href=\"item?id=37517118\">22&nbsp;comments</a>        </span>\n",
            "              </td></tr>\n",
            "      <tr class=\"spacer\" style=\"height:5px\"></tr>\n",
            "                <tr class='athing' id='37519053'>\n",
            "      <td align=\"right\" valign=\"top\" class=\"title\"><span class=\"rank\">10.</span></td>      <td valign=\"top\" class=\"votelinks\"><center><a id='up_37519053'href='vote?id=37519053&amp;how=up&amp;goto=news'><div class='votearrow' title='upvote'></div></a></center></td><td class=\"title\"><span class=\"titleline\"><a href=\"https://status.cloud.google.com/incidents/EBxyHQgEPnbM3Syag5yL\" rel=\"noreferrer\">Global Google Kubernetes Engine Outage</a><span class=\"sitebit comhead\"> (<a href=\"from?site=cloud.google.com\"><span class=\"sitestr\">cloud.google.com</span></a>)</span></span></td></tr><tr><td colspan=\"2\"></td><td class=\"subtext\"><span class=\"subline\">\n",
            "          <span class=\"score\" id=\"score_37519053\">32 points</span> by <a href=\"user?id=talonx\" class=\"hnuser\">talonx</a> <span class=\"age\" title=\"2023-09-15T06:00:26\"><a href=\"item?id=37519053\">4 hours ago</a></span> <span id=\"unv_37519053\"></span> | <a href=\"hide?id=37519053&amp;goto=news\">hide</a> | <a href=\"item?id=37519053\">11&nbsp;comments</a>        </span>\n",
            "              </td></tr>\n",
            "      <tr class=\"spacer\" style=\"height:5px\"></tr>\n",
            "                <tr class='athing' id='37520441'>\n",
            "      <td align=\"right\" valign=\"top\" class=\"title\"><span class=\"rank\">11.</span></td>      <td valign=\"top\" class=\"votelinks\"><center><a id='up_37520441'href='vote?id=37520441&amp;how=up&amp;goto=news'><div class='votearrow' title='upvote'></div></a></center></td><td class=\"title\"><span class=\"titleline\"><a href=\"https://incolumitas.com/pages/BotOrNot/\" rel=\"nofollow noreferrer\">BotOrNot (2021)</a><span class=\"sitebit comhead\"> (<a href=\"from?site=incolumitas.com\"><span class=\"sitestr\">incolumitas.com</span></a>)</span></span></td></tr><tr><td colspan=\"2\"></td><td class=\"subtext\"><span class=\"subline\">\n",
            "          <span class=\"score\" id=\"score_37520441\">4 points</span> by <a href=\"user?id=peter_d_sherman\" class=\"hnuser\">peter_d_sherman</a> <span class=\"age\" title=\"2023-09-15T09:23:50\"><a href=\"item?id=37520441\">57 minutes ago</a></span> <span id=\"unv_37520441\"></span> | <a href=\"hide?id=37520441&amp;goto=news\">hide</a> | <a href=\"item?id=37520441\">discuss</a>        </span>\n",
            "              </td></tr>\n",
            "      <tr class=\"spacer\" style=\"height:5px\"></tr>\n",
            "                <tr class='athing' id='37520212'>\n",
            "      <td align=\"right\" valign=\"top\" class=\"title\"><span class=\"rank\">12.</span></td>      <td valign=\"top\" class=\"votelinks\"><center><a id='up_37520212'href='vote?id=37520212&amp;how=up&amp;goto=news'><div class='votearrow' title='upvote'></div></a></center></td><td class=\"title\"><span class=\"titleline\"><a href=\"https://www.embarcadero.com/products/delphi/starter\" rel=\"noreferrer\">Delphi 11 Community Edition</a><span class=\"sitebit comhead\"> (<a href=\"from?site=embarcadero.com\"><span class=\"sitestr\">embarcadero.com</span></a>)</span></span></td></tr><tr><td colspan=\"2\"></td><td class=\"subtext\"><span class=\"subline\">\n",
            "          <span class=\"score\" id=\"score_37520212\">37 points</span> by <a href=\"user?id=peter_d_sherman\" class=\"hnuser\">peter_d_sherman</a> <span class=\"age\" title=\"2023-09-15T08:47:29\"><a href=\"item?id=37520212\">1 hour ago</a></span> <span id=\"unv_37520212\"></span> | <a href=\"hide?id=37520212&amp;goto=news\">hide</a> | <a href=\"item?id=37520212\">44&nbsp;comments</a>        </span>\n",
            "              </td></tr>\n",
            "      <tr class=\"spacer\" style=\"height:5px\"></tr>\n",
            "                <tr class='athing' id='37519487'>\n",
            "      <td align=\"right\" valign=\"top\" class=\"title\"><span class=\"rank\">13.</span></td>      <td><img src=\"s.gif\" height=\"1\" width=\"14\"></td>       <td class=\"title\"><span class=\"titleline\"><a href=\"https://www.ycombinator.com/companies/eqtble/jobs/bOX2JJp-junior-data-scientist\">Eqtble (YC W21) Is Hiring a Data Analyst</a><span class=\"sitebit comhead\"> (<a href=\"from?site=ycombinator.com\"><span class=\"sitestr\">ycombinator.com</span></a>)</span></span></td></tr><tr><td colspan=\"2\"></td><td class=\"subtext\">\n",
            "        <span class=\"age\" title=\"2023-09-15T07:00:24\"><a href=\"item?id=37519487\">3 hours ago</a></span> | <a href=\"hide?id=37519487&amp;goto=news\">hide</a>      </td></tr>\n",
            "      <tr class=\"spacer\" style=\"height:5px\"></tr>\n",
            "                <tr class='athing' id='37515645'>\n",
            "      <td align=\"right\" valign=\"top\" class=\"title\"><span class=\"rank\">14.</span></td>      <td valign=\"top\" class=\"votelinks\"><center><a id='up_37515645'href='vote?id=37515645&amp;how=up&amp;goto=news'><div class='votearrow' title='upvote'></div></a></center></td><td class=\"title\"><span class=\"titleline\"><a href=\"https://vole.wtf/coder-serial-killer-quiz/\" rel=\"noreferrer\">Programming Language Inventor or Serial Killer? (2003)</a><span class=\"sitebit comhead\"> (<a href=\"from?site=vole.wtf\"><span class=\"sitestr\">vole.wtf</span></a>)</span></span></td></tr><tr><td colspan=\"2\"></td><td class=\"subtext\"><span class=\"subline\">\n",
            "          <span class=\"score\" id=\"score_37515645\">241 points</span> by <a href=\"user?id=bagpuss\" class=\"hnuser\">bagpuss</a> <span class=\"age\" title=\"2023-09-14T22:28:08\"><a href=\"item?id=37515645\">11 hours ago</a></span> <span id=\"unv_37515645\"></span> | <a href=\"hide?id=37515645&amp;goto=news\">hide</a> | <a href=\"item?id=37515645\">110&nbsp;comments</a>        </span>\n",
            "              </td></tr>\n",
            "      <tr class=\"spacer\" style=\"height:5px\"></tr>\n",
            "                <tr class='athing' id='37506248'>\n",
            "      <td align=\"right\" valign=\"top\" class=\"title\"><span class=\"rank\">15.</span></td>      <td valign=\"top\" class=\"votelinks\"><center><a id='up_37506248'href='vote?id=37506248&amp;how=up&amp;goto=news'><div class='votearrow' title='upvote'></div></a></center></td><td class=\"title\"><span class=\"titleline\"><a href=\"https://github.com/barracuda-fsh/pyobd\">Pyobd - a free and open source program for car diagnostics</a><span class=\"sitebit comhead\"> (<a href=\"from?site=github.com/barracuda-fsh\"><span class=\"sitestr\">github.com/barracuda-fsh</span></a>)</span></span></td></tr><tr><td colspan=\"2\"></td><td class=\"subtext\"><span class=\"subline\">\n",
            "          <span class=\"score\" id=\"score_37506248\">94 points</span> by <a href=\"user?id=madviper\" class=\"hnuser\">madviper</a> <span class=\"age\" title=\"2023-09-14T08:05:19\"><a href=\"item?id=37506248\">8 hours ago</a></span> <span id=\"unv_37506248\"></span> | <a href=\"hide?id=37506248&amp;goto=news\">hide</a> | <a href=\"item?id=37506248\">14&nbsp;comments</a>        </span>\n",
            "              </td></tr>\n",
            "      <tr class=\"spacer\" style=\"height:5px\"></tr>\n",
            "                <tr class='athing' id='37509507'>\n",
            "      <td align=\"right\" valign=\"top\" class=\"title\"><span class=\"rank\">16.</span></td>      <td valign=\"top\" class=\"votelinks\"><center><a id='up_37509507'href='vote?id=37509507&amp;how=up&amp;goto=news'><div class='votearrow' title='upvote'></div></a></center></td><td class=\"title\"><span class=\"titleline\"><a href=\"https://nothinghuman.substack.com/p/the-tyranny-of-the-marginal-user\" rel=\"noreferrer\">The Tyranny of the Marginal User</a><span class=\"sitebit comhead\"> (<a href=\"from?site=nothinghuman.substack.com\"><span class=\"sitestr\">nothinghuman.substack.com</span></a>)</span></span></td></tr><tr><td colspan=\"2\"></td><td class=\"subtext\"><span class=\"subline\">\n",
            "          <span class=\"score\" id=\"score_37509507\">1155 points</span> by <a href=\"user?id=ivee\" class=\"hnuser\">ivee</a> <span class=\"age\" title=\"2023-09-14T14:28:06\"><a href=\"item?id=37509507\">19 hours ago</a></span> <span id=\"unv_37509507\"></span> | <a href=\"hide?id=37509507&amp;goto=news\">hide</a> | <a href=\"item?id=37509507\">633&nbsp;comments</a>        </span>\n",
            "              </td></tr>\n",
            "      <tr class=\"spacer\" style=\"height:5px\"></tr>\n",
            "                <tr class='athing' id='37514601'>\n",
            "      <td align=\"right\" valign=\"top\" class=\"title\"><span class=\"rank\">17.</span></td>      <td valign=\"top\" class=\"votelinks\"><center><a id='up_37514601'href='vote?id=37514601&amp;how=up&amp;goto=news'><div class='votearrow' title='upvote'></div></a></center></td><td class=\"title\"><span class=\"titleline\"><a href=\"https://menuetos.net\" rel=\"noreferrer\">MenuetOS</a><span class=\"sitebit comhead\"> (<a href=\"from?site=menuetos.net\"><span class=\"sitestr\">menuetos.net</span></a>)</span></span></td></tr><tr><td colspan=\"2\"></td><td class=\"subtext\"><span class=\"subline\">\n",
            "          <span class=\"score\" id=\"score_37514601\">177 points</span> by <a href=\"user?id=LorenDB\" class=\"hnuser\">LorenDB</a> <span class=\"age\" title=\"2023-09-14T20:45:06\"><a href=\"item?id=37514601\">13 hours ago</a></span> <span id=\"unv_37514601\"></span> | <a href=\"hide?id=37514601&amp;goto=news\">hide</a> | <a href=\"item?id=37514601\">42&nbsp;comments</a>        </span>\n",
            "              </td></tr>\n",
            "      <tr class=\"spacer\" style=\"height:5px\"></tr>\n",
            "                <tr class='athing' id='37515996'>\n",
            "      <td align=\"right\" valign=\"top\" class=\"title\"><span class=\"rank\">18.</span></td>      <td valign=\"top\" class=\"votelinks\"><center><a id='up_37515996'href='vote?id=37515996&amp;how=up&amp;goto=news'><div class='votearrow' title='upvote'></div></a></center></td><td class=\"title\"><span class=\"titleline\"><a href=\"https://baynature.org/2023/09/12/inaturalist-strikes-out-on-its-own/\" rel=\"noreferrer\">iNaturalist strikes out on its own</a><span class=\"sitebit comhead\"> (<a href=\"from?site=baynature.org\"><span class=\"sitestr\">baynature.org</span></a>)</span></span></td></tr><tr><td colspan=\"2\"></td><td class=\"subtext\"><span class=\"subline\">\n",
            "          <span class=\"score\" id=\"score_37515996\">339 points</span> by <a href=\"user?id=kscottz\" class=\"hnuser\">kscottz</a> <span class=\"age\" title=\"2023-09-14T23:07:16\"><a href=\"item?id=37515996\">11 hours ago</a></span> <span id=\"unv_37515996\"></span> | <a href=\"hide?id=37515996&amp;goto=news\">hide</a> | <a href=\"item?id=37515996\">60&nbsp;comments</a>        </span>\n",
            "              </td></tr>\n",
            "      <tr class=\"spacer\" style=\"height:5px\"></tr>\n",
            "                <tr class='athing' id='37494001'>\n",
            "      <td align=\"right\" valign=\"top\" class=\"title\"><span class=\"rank\">19.</span></td>      <td valign=\"top\" class=\"votelinks\"><center><a id='up_37494001'href='vote?id=37494001&amp;how=up&amp;goto=news'><div class='votearrow' title='upvote'></div></a></center></td><td class=\"title\"><span class=\"titleline\"><a href=\"http://jakobgreenfeld.com/agency-model\" rel=\"noreferrer\">Why agencies get stuck at $50k MRR</a><span class=\"sitebit comhead\"> (<a href=\"from?site=jakobgreenfeld.com\"><span class=\"sitestr\">jakobgreenfeld.com</span></a>)</span></span></td></tr><tr><td colspan=\"2\"></td><td class=\"subtext\"><span class=\"subline\">\n",
            "          <span class=\"score\" id=\"score_37494001\">107 points</span> by <a href=\"user?id=Tomte\" class=\"hnuser\">Tomte</a> <span class=\"age\" title=\"2023-09-13T08:49:11\"><a href=\"item?id=37494001\">10 hours ago</a></span> <span id=\"unv_37494001\"></span> | <a href=\"hide?id=37494001&amp;goto=news\">hide</a> | <a href=\"item?id=37494001\">67&nbsp;comments</a>        </span>\n",
            "              </td></tr>\n",
            "      <tr class=\"spacer\" style=\"height:5px\"></tr>\n",
            "                <tr class='athing' id='37518209'>\n",
            "      <td align=\"right\" valign=\"top\" class=\"title\"><span class=\"rank\">20.</span></td>      <td valign=\"top\" class=\"votelinks\"><center><a id='up_37518209'href='vote?id=37518209&amp;how=up&amp;goto=news'><div class='votearrow' title='upvote'></div></a></center></td><td class=\"title\"><span class=\"titleline\"><a href=\"https://www.heyastrocyte.com/\" rel=\"noreferrer\">Show HN: I built an app that lets you create and chat with 3D AI characters</a><span class=\"sitebit comhead\"> (<a href=\"from?site=heyastrocyte.com\"><span class=\"sitestr\">heyastrocyte.com</span></a>)</span></span></td></tr><tr><td colspan=\"2\"></td><td class=\"subtext\"><span class=\"subline\">\n",
            "          <span class=\"score\" id=\"score_37518209\">28 points</span> by <a href=\"user?id=frank_grimes_sr\" class=\"hnuser\">frank_grimes_sr</a> <span class=\"age\" title=\"2023-09-15T04:00:15\"><a href=\"item?id=37518209\">6 hours ago</a></span> <span id=\"unv_37518209\"></span> | <a href=\"hide?id=37518209&amp;goto=news\">hide</a> | <a href=\"item?id=37518209\">18&nbsp;comments</a>        </span>\n",
            "              </td></tr>\n",
            "      <tr class=\"spacer\" style=\"height:5px\"></tr>\n",
            "                <tr class='athing' id='37510865'>\n",
            "      <td align=\"right\" valign=\"top\" class=\"title\"><span class=\"rank\">21.</span></td>      <td valign=\"top\" class=\"votelinks\"><center><a id='up_37510865'href='vote?id=37510865&amp;how=up&amp;goto=news'><div class='votearrow' title='upvote'></div></a></center></td><td class=\"title\"><span class=\"titleline\"><a href=\"https://blog.google/outreach-initiatives/education/automatic-update-extension-chromebook/\" rel=\"noreferrer\">Chromebooks will get 10 years of automatic updates</a><span class=\"sitebit comhead\"> (<a href=\"from?site=blog.google\"><span class=\"sitestr\">blog.google</span></a>)</span></span></td></tr><tr><td colspan=\"2\"></td><td class=\"subtext\"><span class=\"subline\">\n",
            "          <span class=\"score\" id=\"score_37510865\">579 points</span> by <a href=\"user?id=twapi\" class=\"hnuser\">twapi</a> <span class=\"age\" title=\"2023-09-14T16:14:17\"><a href=\"item?id=37510865\">18 hours ago</a></span> <span id=\"unv_37510865\"></span> | <a href=\"hide?id=37510865&amp;goto=news\">hide</a> | <a href=\"item?id=37510865\">329&nbsp;comments</a>        </span>\n",
            "              </td></tr>\n",
            "      <tr class=\"spacer\" style=\"height:5px\"></tr>\n",
            "                <tr class='athing' id='37503037'>\n",
            "      <td align=\"right\" valign=\"top\" class=\"title\"><span class=\"rank\">22.</span></td>      <td valign=\"top\" class=\"votelinks\"><center><a id='up_37503037'href='vote?id=37503037&amp;how=up&amp;goto=news'><div class='votearrow' title='upvote'></div></a></center></td><td class=\"title\"><span class=\"titleline\"><a href=\"https://publicdomainreview.org/essay/liquid-bewitchment/\" rel=\"noreferrer\">Liquid Bewitchment: Gin Drinking in England, 1700–1850</a><span class=\"sitebit comhead\"> (<a href=\"from?site=publicdomainreview.org\"><span class=\"sitestr\">publicdomainreview.org</span></a>)</span></span></td></tr><tr><td colspan=\"2\"></td><td class=\"subtext\"><span class=\"subline\">\n",
            "          <span class=\"score\" id=\"score_37503037\">36 points</span> by <a href=\"user?id=pepys\" class=\"hnuser\">pepys</a> <span class=\"age\" title=\"2023-09-13T23:31:18\"><a href=\"item?id=37503037\">8 hours ago</a></span> <span id=\"unv_37503037\"></span> | <a href=\"hide?id=37503037&amp;goto=news\">hide</a> | <a href=\"item?id=37503037\">15&nbsp;comments</a>        </span>\n",
            "              </td></tr>\n",
            "      <tr class=\"spacer\" style=\"height:5px\"></tr>\n",
            "                <tr class='athing' id='37495166'>\n",
            "      <td align=\"right\" valign=\"top\" class=\"title\"><span class=\"rank\">23.</span></td>      <td valign=\"top\" class=\"votelinks\"><center><a id='up_37495166'href='vote?id=37495166&amp;how=up&amp;goto=news'><div class='votearrow' title='upvote'></div></a></center></td><td class=\"title\"><span class=\"titleline\"><a href=\"https://www.endbasic.dev/\" rel=\"noreferrer\">EndBASIC</a><span class=\"sitebit comhead\"> (<a href=\"from?site=endbasic.dev\"><span class=\"sitestr\">endbasic.dev</span></a>)</span></span></td></tr><tr><td colspan=\"2\"></td><td class=\"subtext\"><span class=\"subline\">\n",
            "          <span class=\"score\" id=\"score_37495166\">61 points</span> by <a href=\"user?id=mpweiher\" class=\"hnuser\">mpweiher</a> <span class=\"age\" title=\"2023-09-13T11:12:02\"><a href=\"item?id=37495166\">9 hours ago</a></span> <span id=\"unv_37495166\"></span> | <a href=\"hide?id=37495166&amp;goto=news\">hide</a> | <a href=\"item?id=37495166\">9&nbsp;comments</a>        </span>\n",
            "              </td></tr>\n",
            "      <tr class=\"spacer\" style=\"height:5px\"></tr>\n",
            "                <tr class='athing' id='37519066'>\n",
            "      <td align=\"right\" valign=\"top\" class=\"title\"><span class=\"rank\">24.</span></td>      <td valign=\"top\" class=\"votelinks\"><center><a id='up_37519066'href='vote?id=37519066&amp;how=up&amp;goto=news'><div class='votearrow' title='upvote'></div></a></center></td><td class=\"title\"><span class=\"titleline\"><a href=\"https://github.com/jedisct1/libsodium\">Libsodium: A modern, portable, easy to use crypto library</a><span class=\"sitebit comhead\"> (<a href=\"from?site=github.com/jedisct1\"><span class=\"sitestr\">github.com/jedisct1</span></a>)</span></span></td></tr><tr><td colspan=\"2\"></td><td class=\"subtext\"><span class=\"subline\">\n",
            "          <span class=\"score\" id=\"score_37519066\">93 points</span> by <a href=\"user?id=randomint64\" class=\"hnuser\">randomint64</a> <span class=\"age\" title=\"2023-09-15T06:01:45\"><a href=\"item?id=37519066\">4 hours ago</a></span> <span id=\"unv_37519066\"></span> | <a href=\"hide?id=37519066&amp;goto=news\">hide</a> | <a href=\"item?id=37519066\">33&nbsp;comments</a>        </span>\n",
            "              </td></tr>\n",
            "      <tr class=\"spacer\" style=\"height:5px\"></tr>\n",
            "                <tr class='athing' id='37520528'>\n",
            "      <td align=\"right\" valign=\"top\" class=\"title\"><span class=\"rank\">25.</span></td>      <td valign=\"top\" class=\"votelinks\"><center><a id='up_37520528'href='vote?id=37520528&amp;how=up&amp;goto=news'><div class='votearrow' title='upvote'></div></a></center></td><td class=\"title\"><span class=\"titleline\"><a href=\"https://www.theguardian.com/world/2023/sep/13/libya-flood-death-toll\" rel=\"noreferrer\">‘Sea is constantly dumping bodies’: fears Libya flood death toll may hit 20k</a><span class=\"sitebit comhead\"> (<a href=\"from?site=theguardian.com\"><span class=\"sitestr\">theguardian.com</span></a>)</span></span></td></tr><tr><td colspan=\"2\"></td><td class=\"subtext\"><span class=\"subline\">\n",
            "          <span class=\"score\" id=\"score_37520528\">9 points</span> by <a href=\"user?id=perihelions\" class=\"hnuser\">perihelions</a> <span class=\"age\" title=\"2023-09-15T09:37:04\"><a href=\"item?id=37520528\">44 minutes ago</a></span> <span id=\"unv_37520528\"></span> | <a href=\"hide?id=37520528&amp;goto=news\">hide</a> | <a href=\"item?id=37520528\">discuss</a>        </span>\n",
            "              </td></tr>\n",
            "      <tr class=\"spacer\" style=\"height:5px\"></tr>\n",
            "                <tr class='athing' id='37513550'>\n",
            "      <td align=\"right\" valign=\"top\" class=\"title\"><span class=\"rank\">26.</span></td>      <td valign=\"top\" class=\"votelinks\"><center><a id='up_37513550'href='vote?id=37513550&amp;how=up&amp;goto=news'><div class='votearrow' title='upvote'></div></a></center></td><td class=\"title\"><span class=\"titleline\"><a href=\"https://www.procustodibus.com/blog/2023/04/how-to-set-up-a-yubikey/\" rel=\"noreferrer\">An Opinionated Yubikey Set-Up Guide</a><span class=\"sitebit comhead\"> (<a href=\"from?site=procustodibus.com\"><span class=\"sitestr\">procustodibus.com</span></a>)</span></span></td></tr><tr><td colspan=\"2\"></td><td class=\"subtext\"><span class=\"subline\">\n",
            "          <span class=\"score\" id=\"score_37513550\">116 points</span> by <a href=\"user?id=justinludwig\" class=\"hnuser\">justinludwig</a> <span class=\"age\" title=\"2023-09-14T19:21:10\"><a href=\"item?id=37513550\">15 hours ago</a></span> <span id=\"unv_37513550\"></span> | <a href=\"hide?id=37513550&amp;goto=news\">hide</a> | <a href=\"item?id=37513550\">60&nbsp;comments</a>        </span>\n",
            "              </td></tr>\n",
            "      <tr class=\"spacer\" style=\"height:5px\"></tr>\n",
            "                <tr class='athing' id='37519982'>\n",
            "      <td align=\"right\" valign=\"top\" class=\"title\"><span class=\"rank\">27.</span></td>      <td valign=\"top\" class=\"votelinks\"><center><a id='up_37519982'href='vote?id=37519982&amp;how=up&amp;goto=news'><div class='votearrow' title='upvote'></div></a></center></td><td class=\"title\"><span class=\"titleline\"><a href=\"https://www.marginalia.nu/log/88-futo-grant/\" rel=\"noreferrer\">Marginalia Search Receives FUTO Grant</a><span class=\"sitebit comhead\"> (<a href=\"from?site=marginalia.nu\"><span class=\"sitestr\">marginalia.nu</span></a>)</span></span></td></tr><tr><td colspan=\"2\"></td><td class=\"subtext\"><span class=\"subline\">\n",
            "          <span class=\"score\" id=\"score_37519982\">40 points</span> by <a href=\"user?id=asicsp\" class=\"hnuser\">asicsp</a> <span class=\"age\" title=\"2023-09-15T08:08:00\"><a href=\"item?id=37519982\">2 hours ago</a></span> <span id=\"unv_37519982\"></span> | <a href=\"hide?id=37519982&amp;goto=news\">hide</a> | <a href=\"item?id=37519982\">2&nbsp;comments</a>        </span>\n",
            "              </td></tr>\n",
            "      <tr class=\"spacer\" style=\"height:5px\"></tr>\n",
            "                <tr class='athing' id='37520374'>\n",
            "      <td align=\"right\" valign=\"top\" class=\"title\"><span class=\"rank\">28.</span></td>      <td valign=\"top\" class=\"votelinks\"><center><a id='up_37520374'href='vote?id=37520374&amp;how=up&amp;goto=news'><div class='votearrow' title='upvote'></div></a></center></td><td class=\"title\"><span class=\"titleline\"><a href=\"item?id=37520374\">Ask HN: How do you manage your “family data warehouse”?</a></span></td></tr><tr><td colspan=\"2\"></td><td class=\"subtext\"><span class=\"subline\">\n",
            "          <span class=\"score\" id=\"score_37520374\">6 points</span> by <a href=\"user?id=coderatlarge\" class=\"hnuser\">coderatlarge</a> <span class=\"age\" title=\"2023-09-15T09:15:23\"><a href=\"item?id=37520374\">1 hour ago</a></span> <span id=\"unv_37520374\"></span> | <a href=\"hide?id=37520374&amp;goto=news\">hide</a> | <a href=\"item?id=37520374\">1&nbsp;comment</a>        </span>\n",
            "              </td></tr>\n",
            "      <tr class=\"spacer\" style=\"height:5px\"></tr>\n",
            "                <tr class='athing' id='37493955'>\n",
            "      <td align=\"right\" valign=\"top\" class=\"title\"><span class=\"rank\">29.</span></td>      <td valign=\"top\" class=\"votelinks\"><center><a id='up_37493955'href='vote?id=37493955&amp;how=up&amp;goto=news'><div class='votearrow' title='upvote'></div></a></center></td><td class=\"title\"><span class=\"titleline\"><a href=\"https://cgad.ski/blog/what-is-dimensional-analysis.html\" rel=\"noreferrer\">What Is Dimensional Analysis?</a><span class=\"sitebit comhead\"> (<a href=\"from?site=cgad.ski\"><span class=\"sitestr\">cgad.ski</span></a>)</span></span></td></tr><tr><td colspan=\"2\"></td><td class=\"subtext\"><span class=\"subline\">\n",
            "          <span class=\"score\" id=\"score_37493955\">82 points</span> by <a href=\"user?id=cgadski\" class=\"hnuser\">cgadski</a> <span class=\"age\" title=\"2023-09-13T08:44:19\"><a href=\"item?id=37493955\">13 hours ago</a></span> <span id=\"unv_37493955\"></span> | <a href=\"hide?id=37493955&amp;goto=news\">hide</a> | <a href=\"item?id=37493955\">62&nbsp;comments</a>        </span>\n",
            "              </td></tr>\n",
            "      <tr class=\"spacer\" style=\"height:5px\"></tr>\n",
            "                <tr class='athing' id='37517329'>\n",
            "      <td align=\"right\" valign=\"top\" class=\"title\"><span class=\"rank\">30.</span></td>      <td valign=\"top\" class=\"votelinks\"><center><a id='up_37517329'href='vote?id=37517329&amp;how=up&amp;goto=news'><div class='votearrow' title='upvote'></div></a></center></td><td class=\"title\"><span class=\"titleline\"><a href=\"https://blog.separateconcerns.com/2023-09-11-linear-code.html\" rel=\"noreferrer\">Linear code is more readable</a><span class=\"sitebit comhead\"> (<a href=\"from?site=separateconcerns.com\"><span class=\"sitestr\">separateconcerns.com</span></a>)</span></span></td></tr><tr><td colspan=\"2\"></td><td class=\"subtext\"><span class=\"subline\">\n",
            "          <span class=\"score\" id=\"score_37517329\">247 points</span> by <a href=\"user?id=dmarto\" class=\"hnuser\">dmarto</a> <span class=\"age\" title=\"2023-09-15T02:03:04\"><a href=\"item?id=37517329\">8 hours ago</a></span> <span id=\"unv_37517329\"></span> | <a href=\"hide?id=37517329&amp;goto=news\">hide</a> | <a href=\"item?id=37517329\">212&nbsp;comments</a>        </span>\n",
            "              </td></tr>\n",
            "      <tr class=\"spacer\" style=\"height:5px\"></tr>\n",
            "            <tr class=\"morespace\" style=\"height:10px\"></tr><tr><td colspan=\"2\"></td>\n",
            "      <td class='title'><a href='?p=2' class='morelink' rel='next'>More</a></td>    </tr>\n",
            "  </table>\n",
            "</td></tr>\n",
            "<tr><td><img src=\"s.gif\" height=\"10\" width=\"0\"><table width=\"100%\" cellspacing=\"0\" cellpadding=\"1\"><tr><td bgcolor=\"#ff6600\"></td></tr></table><br>\n",
            "<center><a href=\"https://www.ycombinator.com/apply/\">Applications are open for YC Winter 2024</a></center><br>\n",
            "<center><span class=\"yclinks\"><a href=\"newsguidelines.html\">Guidelines</a> | <a href=\"newsfaq.html\">FAQ</a> | <a href=\"lists\">Lists</a> | <a href=\"https://github.com/HackerNews/API\">API</a> | <a href=\"security.html\">Security</a> | <a href=\"https://www.ycombinator.com/legal/\">Legal</a> | <a href=\"https://www.ycombinator.com/apply/\">Apply to YC</a> | <a href=\"mailto:hn@ycombinator.com\">Contact</a></span><br><br>\n",
            "<form method=\"get\" action=\"//hn.algolia.com/\">Search: <input type=\"text\" name=\"q\" size=\"17\" autocorrect=\"off\" spellcheck=\"false\" autocapitalize=\"off\" autocomplete=\"false\"></form></center></td></tr>      </table></center></body>\n",
            "      <script type='text/javascript' src='hn.js?RjZPMtYgEOQlBCERQQYJ'></script>\n",
            "  </html>\n",
            "\n"
          ]
        }
      ]
    },
    {
      "cell_type": "code",
      "source": [
        "import requests\n",
        "\n",
        "url = \"https://www.google.com/\"\n",
        "response = requests.get(url)\n",
        "print (f\"your reuwst to {url} came with reponse {response.status_code}\")\n"
      ],
      "metadata": {
        "colab": {
          "base_uri": "https://localhost:8080/"
        },
        "id": "3uZCjVvAYWVA",
        "outputId": "869ee0bc-2456-4ed5-feb6-dc870b91c55c"
      },
      "execution_count": null,
      "outputs": [
        {
          "output_type": "stream",
          "name": "stdout",
          "text": [
            "your reuwst to https://www.google.com/ came with reponse 200\n"
          ]
        }
      ]
    },
    {
      "cell_type": "code",
      "source": [
        "import requests\n",
        "url = \"https://icanhazdadjoke.com/serach\"\n",
        "res = requests.get(url)\n",
        "print(res.text)\n"
      ],
      "metadata": {
        "colab": {
          "base_uri": "https://localhost:8080/"
        },
        "id": "W3W7GorYakOo",
        "outputId": "41b8cad8-e599-4e00-abf3-0d17972b99e8"
      },
      "execution_count": null,
      "outputs": [
        {
          "output_type": "stream",
          "name": "stdout",
          "text": [
            "<!DOCTYPE html>\n",
            "<html lang=\"en\">\n",
            "<head>\n",
            "<meta charset=\"utf-8\">\n",
            "<meta http-equiv=\"X-UA-Compatible\" content=\"IE=edge\">\n",
            "<meta name=\"viewport\" content=\"width=device-width, initial-scale=1, minimum-scale=1\">\n",
            "<meta name=\"description\" content=\"The largest collection of dad jokes on the internet\" />\n",
            "<meta name=\"author\" content=\"C653 Labs\" />\n",
            "<meta name=\"keywords\" content=\"dad,joke,funny,slack,alexa\" />\n",
            "<meta property=\"og:site_name\" content=\"icanhazdadjoke\" />\n",
            "<meta property=\"og:title\" content=\"icanhazdadjoke\" />\n",
            "<meta property=\"og:type\" content=\"website\" />\n",
            "<meta property=\"og:image:url\" content=\"https://icanhazdadjoke.com/static/smile.png\" />\n",
            "<meta property=\"og:image:secure_url\" content=\"https://icanhazdadjoke.com/static/smile.png\" />\n",
            "<meta property=\"og:image:type\" content=\"image/png\" />\n",
            "<meta property=\"og:image:width\" content=\"36\" />\n",
            "<meta property=\"og:image:height\" content=\"36\" />\n",
            "<title>icanhazdadjoke</title>\n",
            "<link rel=\"apple-touch-icon\" sizes=\"180x180\" href=\"/static/apple-touch-icon.png\">\n",
            "<link rel=\"icon\" type=\"image/png\" href=\"/static/favicon-32x32.png\" sizes=\"32x32\">\n",
            "<link rel=\"icon\" type=\"image/png\" href=\"/static/favicon-16x16.png\" sizes=\"16x16\">\n",
            "<link rel=\"manifest\" href=\"/static/manifest.json\">\n",
            "<link rel=\"mask-icon\" href=\"/static/safari-pinned-tab.svg\" color=\"#1fc8db\">\n",
            "<link rel=\"shortcut icon\" href=\"/static/favicon.ico\">\n",
            "<meta name=\"msapplication-config\" content=\"/static/browserconfig.xml\">\n",
            "<meta name=\"theme-color\" content=\"#ffffff\">\n",
            "<meta name=\"slack-app-id\" content=\"A214NCJF2\">\n",
            "<link rel=\"stylesheet\" href=\"/static/dist/style.css?55f4ea12\">\n",
            "<script type=\"application/ld+json\">\n",
            "      {\n",
            "        \"@context\": \"http://schema.org\",\n",
            "        \"@type\": \"WebSite\",\n",
            "        \"url\": \"https://icanhazdadjoke.com/\",\n",
            "        \"name\": \"icanhazdadjoke\",\n",
            "        \"description\": \"The largest collection of dad jokes on the internet\",\n",
            "        \"potentialAction\": {\n",
            "          \"@type\": \"SearchAction\",\n",
            "          \"target\": \"https://icanhazdadjoke.com/search?term={search_term_string}\",\n",
            "          \"query-input\": \"required name=search_term_string\"\n",
            "        }\n",
            "      }\n",
            "    </script>\n",
            "<script type=\"application/ld+json\">\n",
            "      {\n",
            "        \"@context\": \"http://schema.org\",\n",
            "        \"@type\": \"Organization\",\n",
            "        \"url\": \"https://icanhazdadjoke.com/\",\n",
            "        \"logo\": \"https://icanhazdadjoke.com/static/smile.png\",\n",
            "        \"name\": \"icanhazdadjoke\",\n",
            "        \"description\": \"The largest collection of dad jokes on the internet\",\n",
            "        \"email\": \"support@icanhazdadjoke.com\"\n",
            "      }\n",
            "    </script>\n",
            "<script async src=\"//pagead2.googlesyndication.com/pagead/js/adsbygoogle.js\"></script>\n",
            "<script>\n",
            "      (adsbygoogle = window.adsbygoogle || []).push({google_ad_client: \"ca-pub-3200991035275362\", enable_page_level_ads: true});\n",
            "    </script>\n",
            "</head>\n",
            "<body>\n",
            "<nav class=\"nav has-shadow\">\n",
            "<div class=\"container\">\n",
            "<div class=\"nav-left\">\n",
            "<a class=\"nav-item is-brand\" href=\"/\">\n",
            "<img src=\"/static/smile.svg\" alt=\"icanhazdadjoke logo\" />\n",
            "<span class=\"subtitle pushhalf--left\">\n",
            "icanhazdadjoke\n",
            "</span>\n",
            "</a>\n",
            "</div>\n",
            "<span id=\"nav-toggle\" class=\"nav-toggle\">\n",
            "<span></span>\n",
            "<span></span>\n",
            "<span></span>\n",
            "</span>\n",
            "<div id=\"nav-menu\" class=\"nav-right nav-menu\">\n",
            "<a class=\"nav-item is-tab\" href=\"/\">\n",
            "<span class=\"icon is-small\">\n",
            "<i class=\"fa fa-random\"></i>\n",
            "</span>\n",
            "<span class=\"pushquarter--left\">\n",
            "Random joke\n",
            "</span>\n",
            "</a>\n",
            "<a class=\"nav-item is-tab\" href=\"/search\">\n",
            "<span class=\"icon is-small\">\n",
            "<i class=\"fa fa-search\"></i>\n",
            "</span>\n",
            "<span class=\"pushquarter--left\">\n",
            "Search jokes\n",
            "</span>\n",
            "</a>\n",
            "<a class=\"nav-item is-tab\" href=\"/submit\">\n",
            "<span class=\"icon is-small\">\n",
            "<i class=\"fa fa-pencil-square-o\"></i>\n",
            "</span>\n",
            "<span class=\"pushquarter--left\">\n",
            "Submit new joke\n",
            "</span>\n",
            "</a>\n",
            "<div class=\"nav-item\">\n",
            "<a href=\"/slack-add\" style=\"height:40px; max-width:139px\">\n",
            "<img alt=\"Add to Slack\" height=\"40\" width=\"139\" src=\"https://platform.slack-edge.com/img/add_to_slack.png\" style=\"width:139px; height:40px; max-height: 40px\" srcset=\"https://platform.slack-edge.com/img/add_to_slack.png 1x, https://platform.slack-edge.com/img/add_to_slack@2x.png 2x\" />\n",
            "</a>\n",
            "</div>\n",
            "<div class=\"nav-item\">\n",
            "<a class=\"button\" target=\"_blank\" href=\"https://www.amazon.com/Brett-Langdon-icanhazdadjoke/dp/B01N6CQ3NZ/\" style=\"background-color: #ffffff; color: #5ebfe4; border-radius: 6px; font-weight: 500; height:40px; width:139px; max-width:139px\">\n",
            "<img src=\"/static/alexa-logo.png\" style=\"margin-left: -0.5em;\">\n",
            "Add to <strong style=\"margin-left: 0.25em\">Alexa</strong>\n",
            "</a>\n",
            "</div>\n",
            "</div>\n",
            "</div>\n",
            "</nav>\n",
            "<section class=\"section\">\n",
            "<div class=\"container\">\n",
            "<div class=\"notification\">\n",
            "The requested URL was not found on the server. If you entered the URL manually please check your spelling and try again.\n",
            "</div>\n",
            "<div class=\"content\">\n",
            "<a class=\"button\" href=\"/\">\n",
            "<span class=\"icon is-small\">\n",
            "<i class=\"fa fa-home\"></i>\n",
            "</span>\n",
            "<span>Back home</span>\n",
            "</a>\n",
            "</div>\n",
            "<div class=\"content pushwhole--top\">\n",
            "<ins class=\"adsbygoogle\" style=\"display:block\" data-ad-client=\"ca-pub-3200991035275362\" data-ad-slot=\"5324903139\" data-ad-format=\"auto\"></ins>\n",
            "</div>\n",
            "<script>\n",
            "          (adsbygoogle = window.adsbygoogle || []).push({});\n",
            "        </script>\n",
            "</div>\n",
            "</section>\n",
            "<footer class=\"footer\">\n",
            "<div class=\"container\">\n",
            "<div class=\"columns\">\n",
            "<div class=\"column is-5\">\n",
            "<div class=\"content\">\n",
            "<p>\n",
            "<strong>icanhazdadjoke.com</strong> by <a href=\"https://c653labs.com/\">C653 Labs</a>.\n",
            "</p>\n",
            "<p>\n",
            "<i>icanhazdadjoke.com</i> is the largest selection of dad jokes on the internet.\n",
            "Now supporting many different integrations to ensure you can access the dad jokes that you need wherever you are.\n",
            "</p>\n",
            "</div>\n",
            "</div>\n",
            "<div class=\"column is-3\"></div>\n",
            "<div class=\"column is-2\">\n",
            "<aside class=\"menu\">\n",
            "<ul class=\"menu-list\">\n",
            "<li><a href=\"/cdn-cgi/l/email-protection#f784828787988583b79e9496999f968d9396939d989c92d994989a\" target=\"_blank\">Contact</a></li>\n",
            "<li><a href=\"https://twitter.com/icanhazdadjoke\" target=\"_blank\">Twitter</a></li>\n",
            "<li><a href=\"https://slack.com/apps/A214NCJF2-icanhazdadjoke\" target=\"_blank\">Slack app</a></li>\n",
            "<li><a href=\"https://www.amazon.com/Brett-Langdon-icanhazdadjoke/dp/B01N6CQ3NZ/\" target=\"_blank\">Alexa skill</a></li>\n",
            "<li><a href=\"https://discordapp.com/api/oauth2/authorize?client_id=467365247921946626&permissions=0&scope=bot\" target=\"_blank\">Discord bot</a></li>\n",
            "<li><a href=\"https://marketplace.atlassian.com/plugins/com.icanhazdadjoke/cloud/overview\" target=\"_blank\">HipChat plugin</a></li>\n",
            "<li><a href=\"https://twistapp.com/integrations/install/20_901fa9d3df5b8784d3ddc56e\" target=\"_blank\">Twist integration</a></li>\n",
            "</ul>\n",
            "</aside>\n",
            "</div>\n",
            "<div class=\"column is-2\">\n",
            "<aside class=\"menu\">\n",
            "<ul class=\"menu-list\">\n",
            "<li><a href=\"/about\">About</a></li>\n",
            "<li><a href=\"/api\">API</a></li>\n",
            "<li><a href=\"/\">Random joke</a></li>\n",
            "<li><a href=\"/search\">Search jokes</a></li>\n",
            "<li><a href=\"/submit\">Submit new joke</a></li>\n",
            "</ul>\n",
            "</aside>\n",
            "</div>\n",
            "</div>\n",
            "</div>\n",
            "</footer>\n",
            "<script data-cfasync=\"false\" src=\"/cdn-cgi/scripts/5c5dd728/cloudflare-static/email-decode.min.js\"></script><script>\n",
            "        (function(i,s,o,g,r,a,m){i['GoogleAnalyticsObject']=r;i[r]=i[r]||function(){\n",
            "        (i[r].q=i[r].q||[]).push(arguments)},i[r].l=1*new Date();a=s.createElement(o),\n",
            "        m=s.getElementsByTagName(o)[0];a.async=1;a.src=g;m.parentNode.insertBefore(a,m)\n",
            "        })(window,document,'script','https://www.google-analytics.com/analytics.js','ga');\n",
            "\n",
            "        ga('create', 'UA-82372853-1', 'auto');\n",
            "        ga('send', 'pageview');\n",
            "        </script>\n",
            "<script>\n",
            "      document.addEventListener('click', function (evt) {\n",
            "        if (evt.target.id === 'nav-toggle' || evt.target.parent.id === 'nav-toggle') {\n",
            "          document.getElementById('nav-menu').classList.toggle('is-active');\n",
            "        }\n",
            "      });\n",
            "    </script>\n",
            "\n",
            "<script type=\"text/javascript\">\n",
            "      /* <![CDATA[ */\n",
            "      var google_conversion_id = 855658655;\n",
            "      var google_conversion_language = \"en\";\n",
            "      var google_conversion_format = \"3\";\n",
            "      var google_conversion_color = \"ffffff\";\n",
            "      var google_conversion_label = \"gdOKCMjzmHAQn6GBmAM\";\n",
            "      var google_remarketing_only = false;\n",
            "      /* ]]> */\n",
            "    </script>\n",
            "<script type=\"text/javascript\" src=\"//www.googleadservices.com/pagead/conversion.js\"></script>\n",
            "<noscript>\n",
            "      <div style=\"display:inline;\">\n",
            "        <img height=\"1\" width=\"1\" style=\"border-style:none;\" alt=\"\" src=\"//www.googleadservices.com/pagead/conversion/855658655/?label=gdOKCMjzmHAQn6GBmAM&amp;guid=ON&amp;script=0\"/>\n",
            "      </div>\n",
            "    </noscript>\n",
            "</body>\n",
            "</html>\n"
          ]
        }
      ]
    },
    {
      "cell_type": "code",
      "source": [
        "import requests\n",
        "url = \"https://icanhazdadjoke.com/search\"\n",
        "res = requests.get(url,headers={\"Accept\":\"text/plain\"})\n",
        "print(res.text)"
      ],
      "metadata": {
        "colab": {
          "base_uri": "https://localhost:8080/"
        },
        "id": "Sp3Fh3Z6dbkV",
        "outputId": "d57b0435-5ce7-4d00-c1e5-56b0ccf572ed"
      },
      "execution_count": null,
      "outputs": [
        {
          "output_type": "stream",
          "name": "stdout",
          "text": [
            "I'm tired of following my dreams. I'm just going to ask them where they are going and meet up with them later.\n",
            "Did you hear about the guy whose whole left side was cut off? He's all right now.\n",
            "Why didnât the skeleton cross the road? Because he had no guts.\n",
            "What did one nut say as he chased another nut?  I'm a cashew!\n",
            "Where do fish keep their money? In the riverbank\n",
            "I accidentally took my cats meds last night. Donât ask meow.\n",
            "Chances are if you' ve seen one shopping center, you've seen a mall.\n",
            "Dermatologists are always in a hurry. They spend all day making rash decisions. \n",
            "I knew I shouldn't steal a mixer from work, but it was a whisk I was willing to take.\n",
            "I won an argument with a weather forecaster once. His logic was cloudy...\n",
            "How come the stadium got hot after the game? Because all of the fans left.\n",
            "\"Why do seagulls fly over the ocean?\" \"Because if they flew over the bay, we'd call them bagels.\"\n",
            "Why was it called the dark ages? Because of all the knights. \n",
            "A steak pun is a rare medium well done.\n",
            "Why did the tomato blush? Because it saw the salad dressing.\n",
            "Did you hear the joke about the wandering nun? She was a roman catholic.\n",
            "What creature is smarter than a talking parrot? A spelling bee.\n",
            "I'll tell you what often gets over looked... garden fences.\n",
            "Why did the kid cross the playground? To get to the other slide.\n",
            "Why do birds fly south for the winter? Because it's too far to walk.\n"
          ]
        }
      ]
    },
    {
      "cell_type": "code",
      "source": [
        "import requests\n",
        "url = \"https://icanhazdadjoke.com/search\"\n",
        "\n",
        "res = requests.get(url,headers={\"Accept\":\"application/json\"})\n",
        "\n",
        "data = res.json() #attaching json method  to get response from server in dictionary\n",
        "\n",
        "#print(type(res.text))  previous code\n",
        "\n",
        "print(data)\n",
        "\n",
        "print(type(data))"
      ],
      "metadata": {
        "colab": {
          "base_uri": "https://localhost:8080/"
        },
        "id": "n6E8QJredfRa",
        "outputId": "3f2637e0-4172-420e-841f-9eb85e63355d"
      },
      "execution_count": null,
      "outputs": [
        {
          "output_type": "stream",
          "name": "stdout",
          "text": [
            "{'current_page': 1, 'limit': 20, 'next_page': 2, 'previous_page': 1, 'results': [{'id': '0189hNRf2g', 'joke': \"I'm tired of following my dreams. I'm just going to ask them where they are going and meet up with them later.\"}, {'id': '08EQZ8EQukb', 'joke': \"Did you hear about the guy whose whole left side was cut off? He's all right now.\"}, {'id': '08xHQCdx5Ed', 'joke': 'Why didn’t the skeleton cross the road? Because he had no guts.'}, {'id': '0DQKB51oGlb', 'joke': \"What did one nut say as he chased another nut?  I'm a cashew!\"}, {'id': '0DdFQZgyXnb', 'joke': 'Where do fish keep their money? In the riverbank'}, {'id': '0DdaxAX0orc', 'joke': 'I accidentally took my cats meds last night. Don’t ask meow.'}, {'id': '0DtrrOZDlyd', 'joke': \"Chances are if you' ve seen one shopping center, you've seen a mall.\"}, {'id': '0L6MexPukjb', 'joke': 'Dermatologists are always in a hurry. They spend all day making rash decisions. '}, {'id': '0LuXvkq4Muc', 'joke': \"I knew I shouldn't steal a mixer from work, but it was a whisk I was willing to take.\"}, {'id': '0gFdFBsWDd', 'joke': 'I won an argument with a weather forecaster once. His logic was cloudy...'}, {'id': '0ga2EdN7prc', 'joke': 'How come the stadium got hot after the game? Because all of the fans left.'}, {'id': '0ga2wsPZgib', 'joke': '\"Why do seagulls fly over the ocean?\" \"Because if they flew over the bay, we\\'d call them bagels.\"'}, {'id': '0oO71TSv4Ed', 'joke': 'Why was it called the dark ages? Because of all the knights. '}, {'id': '0oz51ozk3ob', 'joke': 'A steak pun is a rare medium well done.'}, {'id': '0ozAXv4Mmjb', 'joke': 'Why did the tomato blush? Because it saw the salad dressing.'}, {'id': '0wcFBQfiGBd', 'joke': 'Did you hear the joke about the wandering nun? She was a roman catholic.'}, {'id': '189xHQ7pOuc', 'joke': 'What creature is smarter than a talking parrot? A spelling bee.'}, {'id': '18Elj3EIYvc', 'joke': \"I'll tell you what often gets over looked... garden fences.\"}, {'id': '18h3wcU8xAd', 'joke': 'Why did the kid cross the playground? To get to the other slide.'}, {'id': '1DIRSfx51Dd', 'joke': \"Why do birds fly south for the winter? Because it's too far to walk.\"}], 'search_term': '', 'status': 200, 'total_jokes': 744, 'total_pages': 38}\n",
            "<class 'dict'>\n"
          ]
        }
      ]
    },
    {
      "cell_type": "markdown",
      "source": [
        "{'current_page': 1, 'limit': 20, 'next_page': 2, 'previous_page': 1, 'results': [{'id': '0189hNRf2g', 'joke': \"I'm tired of following my dreams. I'm just going to ask them where they are going and meet up with them later.\"}, {'id': '08EQZ8EQukb', 'joke': \"Did you hear about the guy whose whole left side was cut off? He's all right now.\"}, {'id': '08xHQCdx5Ed', 'joke': 'Why didn’t the skeleton cross the road? Because he had no guts.'}, {'id': '0DQKB51oGlb', 'joke': \"What did one nut say as he chased another nut?  I'm a cashew!\"}, {'id': '0DdFQZgyXnb', 'joke': 'Where do fish keep their money? In the riverbank'}, {'id': '0DdaxAX0orc', 'joke': 'I accidentally took my cats meds last night. Don’t ask meow.'}, {'id': '0DtrrOZDlyd', 'joke': \"Chances are if you' ve seen one shopping center, you've seen a mall.\"}, {'id': '0L6MexPukjb', 'joke': 'Dermatologists are always in a hurry. They spend all day making rash decisions. '}, {'id': '0LuXvkq4Muc', 'joke': \"I knew I shouldn't steal a mixer from work, but it was a whisk I was willing to take.\"}, {'id': '0gFdFBsWDd', 'joke': 'I won an argument with a weather forecaster once. His logic was cloudy...'}, {'id': '0ga2EdN7prc', 'joke': 'How come the stadium got hot after the game? Because all of the fans left.'}, {'id': '0ga2wsPZgib', 'joke': '\"Why do seagulls fly over the ocean?\" \"Because if they flew over the bay, we\\'d call them bagels.\"'}, {'id': '0oO71TSv4Ed', 'joke': 'Why was it called the dark ages? Because of all the knights. '}, {'id': '0oz51ozk3ob', 'joke': 'A steak pun is a rare medium well done.'}, {'id': '0ozAXv4Mmjb', 'joke': 'Why did the tomato blush? Because it saw the salad dressing.'}, {'id': '0wcFBQfiGBd', 'joke': 'Did you hear the joke about the wandering nun? She was a roman catholic.'}, {'id': '189xHQ7pOuc', 'joke': 'What creature is smarter than a talking parrot? A spelling bee.'}, {'id': '18Elj3EIYvc', 'joke': \"I'll tell you what often gets over looked... garden fences.\"}, {'id': '18h3wcU8xAd', 'joke': 'Why did the kid cross the playground? To get to the other slide.'}, {'id': '1DIRSfx51Dd', 'joke': \"Why do birds fly south for the winter? Because it's too far to walk.\"}], 'search_term': '', 'status': 200, 'total_jokes': 744, 'total_pages': 38}\n",
        "<class 'dict'>\n",
        "\n",
        "\n",
        "---\n",
        "\n",
        "\n",
        "\n",
        "---\n",
        "\n"
      ],
      "metadata": {
        "id": "M0Y8PdW8isoJ"
      }
    },
    {
      "cell_type": "code",
      "source": [
        "d= data[\"results\"]\n",
        "print(d)"
      ],
      "metadata": {
        "colab": {
          "base_uri": "https://localhost:8080/"
        },
        "id": "1DU_qRzCjW9W",
        "outputId": "49c5cba5-cf2f-4696-e903-fdddfb98ef0e"
      },
      "execution_count": null,
      "outputs": [
        {
          "output_type": "stream",
          "name": "stdout",
          "text": [
            "[{'id': '0189hNRf2g', 'joke': \"I'm tired of following my dreams. I'm just going to ask them where they are going and meet up with them later.\"}, {'id': '08EQZ8EQukb', 'joke': \"Did you hear about the guy whose whole left side was cut off? He's all right now.\"}, {'id': '08xHQCdx5Ed', 'joke': 'Why didn’t the skeleton cross the road? Because he had no guts.'}, {'id': '0DQKB51oGlb', 'joke': \"What did one nut say as he chased another nut?  I'm a cashew!\"}, {'id': '0DdFQZgyXnb', 'joke': 'Where do fish keep their money? In the riverbank'}, {'id': '0DdaxAX0orc', 'joke': 'I accidentally took my cats meds last night. Don’t ask meow.'}, {'id': '0DtrrOZDlyd', 'joke': \"Chances are if you' ve seen one shopping center, you've seen a mall.\"}, {'id': '0L6MexPukjb', 'joke': 'Dermatologists are always in a hurry. They spend all day making rash decisions. '}, {'id': '0LuXvkq4Muc', 'joke': \"I knew I shouldn't steal a mixer from work, but it was a whisk I was willing to take.\"}, {'id': '0gFdFBsWDd', 'joke': 'I won an argument with a weather forecaster once. His logic was cloudy...'}, {'id': '0ga2EdN7prc', 'joke': 'How come the stadium got hot after the game? Because all of the fans left.'}, {'id': '0ga2wsPZgib', 'joke': '\"Why do seagulls fly over the ocean?\" \"Because if they flew over the bay, we\\'d call them bagels.\"'}, {'id': '0oO71TSv4Ed', 'joke': 'Why was it called the dark ages? Because of all the knights. '}, {'id': '0oz51ozk3ob', 'joke': 'A steak pun is a rare medium well done.'}, {'id': '0ozAXv4Mmjb', 'joke': 'Why did the tomato blush? Because it saw the salad dressing.'}, {'id': '0wcFBQfiGBd', 'joke': 'Did you hear the joke about the wandering nun? She was a roman catholic.'}, {'id': '189xHQ7pOuc', 'joke': 'What creature is smarter than a talking parrot? A spelling bee.'}, {'id': '18Elj3EIYvc', 'joke': \"I'll tell you what often gets over looked... garden fences.\"}, {'id': '18h3wcU8xAd', 'joke': 'Why did the kid cross the playground? To get to the other slide.'}, {'id': '1DIRSfx51Dd', 'joke': \"Why do birds fly south for the winter? Because it's too far to walk.\"}]\n"
          ]
        }
      ]
    },
    {
      "cell_type": "markdown",
      "source": [
        "[{'id': '0189hNRf2g', 'joke': \"I'm tired of following my dreams. I'm just going to ask them where they are going and meet up with them later.\"}, {'id': '08EQZ8EQukb', 'joke': \"Did you hear about the guy whose whole left side was cut off? He's all right now.\"}, {'id': '08xHQCdx5Ed', 'joke': 'Why didn’t the skeleton cross the road? Because he had no guts.'}]"
      ],
      "metadata": {
        "id": "jJa23kkRkDZm"
      }
    },
    {
      "cell_type": "code",
      "source": [
        "joke = []\n",
        "for i in  d:\n",
        "  joke.append(i[\"joke\"])\n",
        "  print(joke)"
      ],
      "metadata": {
        "colab": {
          "base_uri": "https://localhost:8080/"
        },
        "id": "BbhYO8tWkXgu",
        "outputId": "818ee506-52a8-4276-f0de-385f1feea53f"
      },
      "execution_count": null,
      "outputs": [
        {
          "output_type": "stream",
          "name": "stdout",
          "text": [
            "[\"I'm tired of following my dreams. I'm just going to ask them where they are going and meet up with them later.\"]\n",
            "[\"I'm tired of following my dreams. I'm just going to ask them where they are going and meet up with them later.\", \"Did you hear about the guy whose whole left side was cut off? He's all right now.\"]\n",
            "[\"I'm tired of following my dreams. I'm just going to ask them where they are going and meet up with them later.\", \"Did you hear about the guy whose whole left side was cut off? He's all right now.\", 'Why didn’t the skeleton cross the road? Because he had no guts.']\n",
            "[\"I'm tired of following my dreams. I'm just going to ask them where they are going and meet up with them later.\", \"Did you hear about the guy whose whole left side was cut off? He's all right now.\", 'Why didn’t the skeleton cross the road? Because he had no guts.', \"What did one nut say as he chased another nut?  I'm a cashew!\"]\n",
            "[\"I'm tired of following my dreams. I'm just going to ask them where they are going and meet up with them later.\", \"Did you hear about the guy whose whole left side was cut off? He's all right now.\", 'Why didn’t the skeleton cross the road? Because he had no guts.', \"What did one nut say as he chased another nut?  I'm a cashew!\", 'Where do fish keep their money? In the riverbank']\n",
            "[\"I'm tired of following my dreams. I'm just going to ask them where they are going and meet up with them later.\", \"Did you hear about the guy whose whole left side was cut off? He's all right now.\", 'Why didn’t the skeleton cross the road? Because he had no guts.', \"What did one nut say as he chased another nut?  I'm a cashew!\", 'Where do fish keep their money? In the riverbank', 'I accidentally took my cats meds last night. Don’t ask meow.']\n",
            "[\"I'm tired of following my dreams. I'm just going to ask them where they are going and meet up with them later.\", \"Did you hear about the guy whose whole left side was cut off? He's all right now.\", 'Why didn’t the skeleton cross the road? Because he had no guts.', \"What did one nut say as he chased another nut?  I'm a cashew!\", 'Where do fish keep their money? In the riverbank', 'I accidentally took my cats meds last night. Don’t ask meow.', \"Chances are if you' ve seen one shopping center, you've seen a mall.\"]\n",
            "[\"I'm tired of following my dreams. I'm just going to ask them where they are going and meet up with them later.\", \"Did you hear about the guy whose whole left side was cut off? He's all right now.\", 'Why didn’t the skeleton cross the road? Because he had no guts.', \"What did one nut say as he chased another nut?  I'm a cashew!\", 'Where do fish keep their money? In the riverbank', 'I accidentally took my cats meds last night. Don’t ask meow.', \"Chances are if you' ve seen one shopping center, you've seen a mall.\", 'Dermatologists are always in a hurry. They spend all day making rash decisions. ']\n",
            "[\"I'm tired of following my dreams. I'm just going to ask them where they are going and meet up with them later.\", \"Did you hear about the guy whose whole left side was cut off? He's all right now.\", 'Why didn’t the skeleton cross the road? Because he had no guts.', \"What did one nut say as he chased another nut?  I'm a cashew!\", 'Where do fish keep their money? In the riverbank', 'I accidentally took my cats meds last night. Don’t ask meow.', \"Chances are if you' ve seen one shopping center, you've seen a mall.\", 'Dermatologists are always in a hurry. They spend all day making rash decisions. ', \"I knew I shouldn't steal a mixer from work, but it was a whisk I was willing to take.\"]\n",
            "[\"I'm tired of following my dreams. I'm just going to ask them where they are going and meet up with them later.\", \"Did you hear about the guy whose whole left side was cut off? He's all right now.\", 'Why didn’t the skeleton cross the road? Because he had no guts.', \"What did one nut say as he chased another nut?  I'm a cashew!\", 'Where do fish keep their money? In the riverbank', 'I accidentally took my cats meds last night. Don’t ask meow.', \"Chances are if you' ve seen one shopping center, you've seen a mall.\", 'Dermatologists are always in a hurry. They spend all day making rash decisions. ', \"I knew I shouldn't steal a mixer from work, but it was a whisk I was willing to take.\", 'I won an argument with a weather forecaster once. His logic was cloudy...']\n",
            "[\"I'm tired of following my dreams. I'm just going to ask them where they are going and meet up with them later.\", \"Did you hear about the guy whose whole left side was cut off? He's all right now.\", 'Why didn’t the skeleton cross the road? Because he had no guts.', \"What did one nut say as he chased another nut?  I'm a cashew!\", 'Where do fish keep their money? In the riverbank', 'I accidentally took my cats meds last night. Don’t ask meow.', \"Chances are if you' ve seen one shopping center, you've seen a mall.\", 'Dermatologists are always in a hurry. They spend all day making rash decisions. ', \"I knew I shouldn't steal a mixer from work, but it was a whisk I was willing to take.\", 'I won an argument with a weather forecaster once. His logic was cloudy...', 'How come the stadium got hot after the game? Because all of the fans left.']\n",
            "[\"I'm tired of following my dreams. I'm just going to ask them where they are going and meet up with them later.\", \"Did you hear about the guy whose whole left side was cut off? He's all right now.\", 'Why didn’t the skeleton cross the road? Because he had no guts.', \"What did one nut say as he chased another nut?  I'm a cashew!\", 'Where do fish keep their money? In the riverbank', 'I accidentally took my cats meds last night. Don’t ask meow.', \"Chances are if you' ve seen one shopping center, you've seen a mall.\", 'Dermatologists are always in a hurry. They spend all day making rash decisions. ', \"I knew I shouldn't steal a mixer from work, but it was a whisk I was willing to take.\", 'I won an argument with a weather forecaster once. His logic was cloudy...', 'How come the stadium got hot after the game? Because all of the fans left.', '\"Why do seagulls fly over the ocean?\" \"Because if they flew over the bay, we\\'d call them bagels.\"']\n",
            "[\"I'm tired of following my dreams. I'm just going to ask them where they are going and meet up with them later.\", \"Did you hear about the guy whose whole left side was cut off? He's all right now.\", 'Why didn’t the skeleton cross the road? Because he had no guts.', \"What did one nut say as he chased another nut?  I'm a cashew!\", 'Where do fish keep their money? In the riverbank', 'I accidentally took my cats meds last night. Don’t ask meow.', \"Chances are if you' ve seen one shopping center, you've seen a mall.\", 'Dermatologists are always in a hurry. They spend all day making rash decisions. ', \"I knew I shouldn't steal a mixer from work, but it was a whisk I was willing to take.\", 'I won an argument with a weather forecaster once. His logic was cloudy...', 'How come the stadium got hot after the game? Because all of the fans left.', '\"Why do seagulls fly over the ocean?\" \"Because if they flew over the bay, we\\'d call them bagels.\"', 'Why was it called the dark ages? Because of all the knights. ']\n",
            "[\"I'm tired of following my dreams. I'm just going to ask them where they are going and meet up with them later.\", \"Did you hear about the guy whose whole left side was cut off? He's all right now.\", 'Why didn’t the skeleton cross the road? Because he had no guts.', \"What did one nut say as he chased another nut?  I'm a cashew!\", 'Where do fish keep their money? In the riverbank', 'I accidentally took my cats meds last night. Don’t ask meow.', \"Chances are if you' ve seen one shopping center, you've seen a mall.\", 'Dermatologists are always in a hurry. They spend all day making rash decisions. ', \"I knew I shouldn't steal a mixer from work, but it was a whisk I was willing to take.\", 'I won an argument with a weather forecaster once. His logic was cloudy...', 'How come the stadium got hot after the game? Because all of the fans left.', '\"Why do seagulls fly over the ocean?\" \"Because if they flew over the bay, we\\'d call them bagels.\"', 'Why was it called the dark ages? Because of all the knights. ', 'A steak pun is a rare medium well done.']\n",
            "[\"I'm tired of following my dreams. I'm just going to ask them where they are going and meet up with them later.\", \"Did you hear about the guy whose whole left side was cut off? He's all right now.\", 'Why didn’t the skeleton cross the road? Because he had no guts.', \"What did one nut say as he chased another nut?  I'm a cashew!\", 'Where do fish keep their money? In the riverbank', 'I accidentally took my cats meds last night. Don’t ask meow.', \"Chances are if you' ve seen one shopping center, you've seen a mall.\", 'Dermatologists are always in a hurry. They spend all day making rash decisions. ', \"I knew I shouldn't steal a mixer from work, but it was a whisk I was willing to take.\", 'I won an argument with a weather forecaster once. His logic was cloudy...', 'How come the stadium got hot after the game? Because all of the fans left.', '\"Why do seagulls fly over the ocean?\" \"Because if they flew over the bay, we\\'d call them bagels.\"', 'Why was it called the dark ages? Because of all the knights. ', 'A steak pun is a rare medium well done.', 'Why did the tomato blush? Because it saw the salad dressing.']\n",
            "[\"I'm tired of following my dreams. I'm just going to ask them where they are going and meet up with them later.\", \"Did you hear about the guy whose whole left side was cut off? He's all right now.\", 'Why didn’t the skeleton cross the road? Because he had no guts.', \"What did one nut say as he chased another nut?  I'm a cashew!\", 'Where do fish keep their money? In the riverbank', 'I accidentally took my cats meds last night. Don’t ask meow.', \"Chances are if you' ve seen one shopping center, you've seen a mall.\", 'Dermatologists are always in a hurry. They spend all day making rash decisions. ', \"I knew I shouldn't steal a mixer from work, but it was a whisk I was willing to take.\", 'I won an argument with a weather forecaster once. His logic was cloudy...', 'How come the stadium got hot after the game? Because all of the fans left.', '\"Why do seagulls fly over the ocean?\" \"Because if they flew over the bay, we\\'d call them bagels.\"', 'Why was it called the dark ages? Because of all the knights. ', 'A steak pun is a rare medium well done.', 'Why did the tomato blush? Because it saw the salad dressing.', 'Did you hear the joke about the wandering nun? She was a roman catholic.']\n",
            "[\"I'm tired of following my dreams. I'm just going to ask them where they are going and meet up with them later.\", \"Did you hear about the guy whose whole left side was cut off? He's all right now.\", 'Why didn’t the skeleton cross the road? Because he had no guts.', \"What did one nut say as he chased another nut?  I'm a cashew!\", 'Where do fish keep their money? In the riverbank', 'I accidentally took my cats meds last night. Don’t ask meow.', \"Chances are if you' ve seen one shopping center, you've seen a mall.\", 'Dermatologists are always in a hurry. They spend all day making rash decisions. ', \"I knew I shouldn't steal a mixer from work, but it was a whisk I was willing to take.\", 'I won an argument with a weather forecaster once. His logic was cloudy...', 'How come the stadium got hot after the game? Because all of the fans left.', '\"Why do seagulls fly over the ocean?\" \"Because if they flew over the bay, we\\'d call them bagels.\"', 'Why was it called the dark ages? Because of all the knights. ', 'A steak pun is a rare medium well done.', 'Why did the tomato blush? Because it saw the salad dressing.', 'Did you hear the joke about the wandering nun? She was a roman catholic.', 'What creature is smarter than a talking parrot? A spelling bee.']\n",
            "[\"I'm tired of following my dreams. I'm just going to ask them where they are going and meet up with them later.\", \"Did you hear about the guy whose whole left side was cut off? He's all right now.\", 'Why didn’t the skeleton cross the road? Because he had no guts.', \"What did one nut say as he chased another nut?  I'm a cashew!\", 'Where do fish keep their money? In the riverbank', 'I accidentally took my cats meds last night. Don’t ask meow.', \"Chances are if you' ve seen one shopping center, you've seen a mall.\", 'Dermatologists are always in a hurry. They spend all day making rash decisions. ', \"I knew I shouldn't steal a mixer from work, but it was a whisk I was willing to take.\", 'I won an argument with a weather forecaster once. His logic was cloudy...', 'How come the stadium got hot after the game? Because all of the fans left.', '\"Why do seagulls fly over the ocean?\" \"Because if they flew over the bay, we\\'d call them bagels.\"', 'Why was it called the dark ages? Because of all the knights. ', 'A steak pun is a rare medium well done.', 'Why did the tomato blush? Because it saw the salad dressing.', 'Did you hear the joke about the wandering nun? She was a roman catholic.', 'What creature is smarter than a talking parrot? A spelling bee.', \"I'll tell you what often gets over looked... garden fences.\"]\n",
            "[\"I'm tired of following my dreams. I'm just going to ask them where they are going and meet up with them later.\", \"Did you hear about the guy whose whole left side was cut off? He's all right now.\", 'Why didn’t the skeleton cross the road? Because he had no guts.', \"What did one nut say as he chased another nut?  I'm a cashew!\", 'Where do fish keep their money? In the riverbank', 'I accidentally took my cats meds last night. Don’t ask meow.', \"Chances are if you' ve seen one shopping center, you've seen a mall.\", 'Dermatologists are always in a hurry. They spend all day making rash decisions. ', \"I knew I shouldn't steal a mixer from work, but it was a whisk I was willing to take.\", 'I won an argument with a weather forecaster once. His logic was cloudy...', 'How come the stadium got hot after the game? Because all of the fans left.', '\"Why do seagulls fly over the ocean?\" \"Because if they flew over the bay, we\\'d call them bagels.\"', 'Why was it called the dark ages? Because of all the knights. ', 'A steak pun is a rare medium well done.', 'Why did the tomato blush? Because it saw the salad dressing.', 'Did you hear the joke about the wandering nun? She was a roman catholic.', 'What creature is smarter than a talking parrot? A spelling bee.', \"I'll tell you what often gets over looked... garden fences.\", 'Why did the kid cross the playground? To get to the other slide.']\n",
            "[\"I'm tired of following my dreams. I'm just going to ask them where they are going and meet up with them later.\", \"Did you hear about the guy whose whole left side was cut off? He's all right now.\", 'Why didn’t the skeleton cross the road? Because he had no guts.', \"What did one nut say as he chased another nut?  I'm a cashew!\", 'Where do fish keep their money? In the riverbank', 'I accidentally took my cats meds last night. Don’t ask meow.', \"Chances are if you' ve seen one shopping center, you've seen a mall.\", 'Dermatologists are always in a hurry. They spend all day making rash decisions. ', \"I knew I shouldn't steal a mixer from work, but it was a whisk I was willing to take.\", 'I won an argument with a weather forecaster once. His logic was cloudy...', 'How come the stadium got hot after the game? Because all of the fans left.', '\"Why do seagulls fly over the ocean?\" \"Because if they flew over the bay, we\\'d call them bagels.\"', 'Why was it called the dark ages? Because of all the knights. ', 'A steak pun is a rare medium well done.', 'Why did the tomato blush? Because it saw the salad dressing.', 'Did you hear the joke about the wandering nun? She was a roman catholic.', 'What creature is smarter than a talking parrot? A spelling bee.', \"I'll tell you what often gets over looked... garden fences.\", 'Why did the kid cross the playground? To get to the other slide.', \"Why do birds fly south for the winter? Because it's too far to walk.\"]\n"
          ]
        }
      ]
    },
    {
      "cell_type": "code",
      "source": [
        "!pip install pyfiglet\n",
        "!pip install termcolor\n"
      ],
      "metadata": {
        "colab": {
          "base_uri": "https://localhost:8080/"
        },
        "id": "qvDcV2-VlzTK",
        "outputId": "5d870655-8cc4-43f2-f18c-6ce9ee2f1458"
      },
      "execution_count": null,
      "outputs": [
        {
          "output_type": "stream",
          "name": "stdout",
          "text": [
            "Requirement already satisfied: pyfiglet in /usr/local/lib/python3.10/dist-packages (1.0.2)\n",
            "Requirement already satisfied: termcolor in /usr/local/lib/python3.10/dist-packages (2.3.0)\n"
          ]
        }
      ]
    },
    {
      "cell_type": "code",
      "source": [
        "import requests\n",
        "\n",
        "res = requests.get(\"https://icanhazdadjoke.com/search\", headers={\"Accept\": \"application/json\"}, params={\"term\": \"cat\"})\n",
        "\n",
        "data = res.json()\n",
        "print(data)\n"
      ],
      "metadata": {
        "colab": {
          "base_uri": "https://localhost:8080/"
        },
        "id": "1_oFwFi2nAQD",
        "outputId": "616a6e4c-1454-434e-f9d7-010c8fd36abc"
      },
      "execution_count": null,
      "outputs": [
        {
          "output_type": "stream",
          "name": "stdout",
          "text": [
            "{'current_page': 1, 'limit': 20, 'next_page': 1, 'previous_page': 1, 'results': [{'id': 'daaUfibh', 'joke': 'Why was the big cat disqualified from the race? Because it was a cheetah.'}, {'id': 'iGJeVKmWDlb', 'joke': 'My cat was just sick on the carpet, I don’t think it’s feline well.'}, {'id': '8UnrHe2T0g', 'joke': '‘Put the cat out’ … ‘I didn’t realize it was on fire'}, {'id': '0wcFBQfiGBd', 'joke': 'Did you hear the joke about the wandering nun? She was a roman catholic.'}, {'id': '0DdaxAX0orc', 'joke': 'I accidentally took my cats meds last night. Don’t ask meow.'}, {'id': '39Etc2orc', 'joke': 'Why did the man run around his bed? Because he was trying to catch up on his sleep!'}, {'id': 'BQfaxsHBsrc', 'joke': 'What do you call a pile of cats?  A Meowtain.'}, {'id': '1wkqrcNCljb', 'joke': \"Did you know that protons have mass? I didn't even know they were catholic.\"}, {'id': 'O7haxA5Tfxc', 'joke': 'Where do cats write notes?\\r\\nScratch Paper!'}, {'id': 'AQn3wPKeqrc', 'joke': 'It was raining cats and dogs the other day. I almost stepped in a poodle.'}, {'id': 'TS0gFlqr4ob', 'joke': 'What do you call a group of disorganized cats? A cat-tastrophe.'}], 'search_term': 'cat', 'status': 200, 'total_jokes': 11, 'total_pages': 1}\n"
          ]
        }
      ]
    },
    {
      "cell_type": "code",
      "source": [
        "import requests\n",
        "import pyfiglet\n",
        "#import termcolor\n",
        "from random import choice\n",
        "header = pyfiglet.figlet_format (\"find a joke\")\n",
        "print (header)\n",
        "\n",
        "term = input(\"Let me tell you a joke : Give me  a Topic \") #prompt term is  variable\n",
        "\n",
        "response_json = requests.get(\"https://icanhazdadjoke.com/search\", headers={\"Accept\": \"application/json\"}, params={\"term\":term}).json()\n",
        "\n",
        "#print(response_json)\n",
        "results = response_json [\"results\"]\n",
        "total_jokes = response_json[\"total_jokes\"]\n",
        "if (total_jokes > 1):\n",
        " print(f\"i've got (tot_jokes) about {term} here is one of them\",choice(results)[\"joke\"])\n",
        "elif(total_jokes == 1):\n",
        " print(f\"i've got one job about {term}. here it is\", results[0][\"joke\"])\n",
        "else:\n",
        " print(f\"sorry i dont have joke about {term}\")\n",
        "\n"
      ],
      "metadata": {
        "colab": {
          "base_uri": "https://localhost:8080/"
        },
        "id": "LRWDPeJrrGhX",
        "outputId": "f52223c3-b68b-470c-ffa0-a26b88a82413"
      },
      "execution_count": null,
      "outputs": [
        {
          "output_type": "stream",
          "name": "stdout",
          "text": [
            "  __ _           _             _       _        \n",
            " / _(_)_ __   __| |   __ _    (_) ___ | | _____ \n",
            "| |_| | '_ \\ / _` |  / _` |   | |/ _ \\| |/ / _ \\\n",
            "|  _| | | | | (_| | | (_| |   | | (_) |   <  __/\n",
            "|_| |_|_| |_|\\__,_|  \\__,_|  _/ |\\___/|_|\\_\\___|\n",
            "                            |__/                \n",
            "\n",
            "Let me tell you a joke : Give me  a Topic xyz\n",
            "sorry i dont have joke about xyz\n"
          ]
        }
      ]
    }
  ]
}